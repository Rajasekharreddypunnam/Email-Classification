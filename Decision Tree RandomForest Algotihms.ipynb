{
 "cells": [
  {
   "cell_type": "code",
   "execution_count": 167,
   "id": "7bef1f89",
   "metadata": {},
   "outputs": [],
   "source": [
    "# used fot preprocessing the data.\n",
    "import pandas as pd\n",
    "# Used fo visualization of data using various graph.\n",
    "import seaborn as sns\n",
    "from sklearn.tree import DecisionTreeClassifier, export_graphviz"
   ]
  },
  {
   "cell_type": "code",
   "execution_count": 168,
   "id": "4a021cd1",
   "metadata": {},
   "outputs": [],
   "source": [
    "# To read the data from excel and create a dataframe\n",
    "df = pd.read_excel(\"/Users/rajasekharreddy/Desktop/StatisticsForDataScieneAssignment/spam.xlsx\")"
   ]
  },
  {
   "cell_type": "code",
   "execution_count": 169,
   "id": "d4ccc208",
   "metadata": {},
   "outputs": [
    {
     "data": {
      "text/plain": [
       "4601"
      ]
     },
     "execution_count": 169,
     "metadata": {},
     "output_type": "execute_result"
    }
   ],
   "source": [
    "# To Display the count of rows.\n",
    "df.shape[0]"
   ]
  },
  {
   "cell_type": "code",
   "execution_count": 170,
   "id": "d42d86bf",
   "metadata": {
    "scrolled": true
   },
   "outputs": [
    {
     "data": {
      "text/html": [
       "<div>\n",
       "<style scoped>\n",
       "    .dataframe tbody tr th:only-of-type {\n",
       "        vertical-align: middle;\n",
       "    }\n",
       "\n",
       "    .dataframe tbody tr th {\n",
       "        vertical-align: top;\n",
       "    }\n",
       "\n",
       "    .dataframe thead th {\n",
       "        text-align: right;\n",
       "    }\n",
       "</style>\n",
       "<table border=\"1\" class=\"dataframe\">\n",
       "  <thead>\n",
       "    <tr style=\"text-align: right;\">\n",
       "      <th></th>\n",
       "      <th>make</th>\n",
       "      <th>address</th>\n",
       "      <th>all</th>\n",
       "      <th>3d</th>\n",
       "      <th>our</th>\n",
       "      <th>over</th>\n",
       "      <th>remove</th>\n",
       "      <th>internet</th>\n",
       "      <th>order</th>\n",
       "      <th>mail</th>\n",
       "      <th>...</th>\n",
       "      <th>semicol</th>\n",
       "      <th>paren</th>\n",
       "      <th>bracket</th>\n",
       "      <th>bang</th>\n",
       "      <th>dollar</th>\n",
       "      <th>pound</th>\n",
       "      <th>cap_avg</th>\n",
       "      <th>cap_long</th>\n",
       "      <th>cap_total</th>\n",
       "      <th>Class</th>\n",
       "    </tr>\n",
       "  </thead>\n",
       "  <tbody>\n",
       "    <tr>\n",
       "      <th>0</th>\n",
       "      <td>0.00</td>\n",
       "      <td>0.00</td>\n",
       "      <td>0.29</td>\n",
       "      <td>0.0</td>\n",
       "      <td>0.00</td>\n",
       "      <td>0.00</td>\n",
       "      <td>0.00</td>\n",
       "      <td>0.00</td>\n",
       "      <td>0.00</td>\n",
       "      <td>0.00</td>\n",
       "      <td>...</td>\n",
       "      <td>0.000</td>\n",
       "      <td>0.178</td>\n",
       "      <td>0.000</td>\n",
       "      <td>0.044</td>\n",
       "      <td>0.000</td>\n",
       "      <td>0.00</td>\n",
       "      <td>1.666</td>\n",
       "      <td>10</td>\n",
       "      <td>180</td>\n",
       "      <td>ham</td>\n",
       "    </tr>\n",
       "    <tr>\n",
       "      <th>1</th>\n",
       "      <td>0.46</td>\n",
       "      <td>0.00</td>\n",
       "      <td>0.00</td>\n",
       "      <td>0.0</td>\n",
       "      <td>0.00</td>\n",
       "      <td>0.00</td>\n",
       "      <td>0.00</td>\n",
       "      <td>0.00</td>\n",
       "      <td>0.00</td>\n",
       "      <td>0.00</td>\n",
       "      <td>...</td>\n",
       "      <td>0.000</td>\n",
       "      <td>0.125</td>\n",
       "      <td>0.000</td>\n",
       "      <td>0.000</td>\n",
       "      <td>0.000</td>\n",
       "      <td>0.00</td>\n",
       "      <td>1.510</td>\n",
       "      <td>10</td>\n",
       "      <td>74</td>\n",
       "      <td>ham</td>\n",
       "    </tr>\n",
       "    <tr>\n",
       "      <th>2</th>\n",
       "      <td>0.00</td>\n",
       "      <td>0.00</td>\n",
       "      <td>0.00</td>\n",
       "      <td>0.0</td>\n",
       "      <td>0.00</td>\n",
       "      <td>0.00</td>\n",
       "      <td>0.00</td>\n",
       "      <td>0.00</td>\n",
       "      <td>0.00</td>\n",
       "      <td>0.00</td>\n",
       "      <td>...</td>\n",
       "      <td>0.000</td>\n",
       "      <td>0.000</td>\n",
       "      <td>0.000</td>\n",
       "      <td>0.000</td>\n",
       "      <td>0.000</td>\n",
       "      <td>0.00</td>\n",
       "      <td>1.718</td>\n",
       "      <td>11</td>\n",
       "      <td>55</td>\n",
       "      <td>ham</td>\n",
       "    </tr>\n",
       "    <tr>\n",
       "      <th>3</th>\n",
       "      <td>0.33</td>\n",
       "      <td>0.44</td>\n",
       "      <td>0.37</td>\n",
       "      <td>0.0</td>\n",
       "      <td>0.14</td>\n",
       "      <td>0.11</td>\n",
       "      <td>0.00</td>\n",
       "      <td>0.07</td>\n",
       "      <td>0.97</td>\n",
       "      <td>1.16</td>\n",
       "      <td>...</td>\n",
       "      <td>0.006</td>\n",
       "      <td>0.159</td>\n",
       "      <td>0.000</td>\n",
       "      <td>0.069</td>\n",
       "      <td>0.221</td>\n",
       "      <td>0.11</td>\n",
       "      <td>3.426</td>\n",
       "      <td>72</td>\n",
       "      <td>819</td>\n",
       "      <td>spam</td>\n",
       "    </tr>\n",
       "    <tr>\n",
       "      <th>4</th>\n",
       "      <td>0.00</td>\n",
       "      <td>2.08</td>\n",
       "      <td>0.00</td>\n",
       "      <td>0.0</td>\n",
       "      <td>3.12</td>\n",
       "      <td>0.00</td>\n",
       "      <td>1.04</td>\n",
       "      <td>0.00</td>\n",
       "      <td>0.00</td>\n",
       "      <td>0.00</td>\n",
       "      <td>...</td>\n",
       "      <td>0.000</td>\n",
       "      <td>0.000</td>\n",
       "      <td>0.000</td>\n",
       "      <td>0.263</td>\n",
       "      <td>0.000</td>\n",
       "      <td>0.00</td>\n",
       "      <td>1.428</td>\n",
       "      <td>4</td>\n",
       "      <td>20</td>\n",
       "      <td>spam</td>\n",
       "    </tr>\n",
       "    <tr>\n",
       "      <th>5</th>\n",
       "      <td>0.00</td>\n",
       "      <td>0.00</td>\n",
       "      <td>0.27</td>\n",
       "      <td>0.0</td>\n",
       "      <td>0.81</td>\n",
       "      <td>0.81</td>\n",
       "      <td>0.00</td>\n",
       "      <td>2.98</td>\n",
       "      <td>0.54</td>\n",
       "      <td>0.81</td>\n",
       "      <td>...</td>\n",
       "      <td>0.000</td>\n",
       "      <td>0.040</td>\n",
       "      <td>0.000</td>\n",
       "      <td>0.565</td>\n",
       "      <td>0.121</td>\n",
       "      <td>0.00</td>\n",
       "      <td>1.617</td>\n",
       "      <td>18</td>\n",
       "      <td>131</td>\n",
       "      <td>spam</td>\n",
       "    </tr>\n",
       "    <tr>\n",
       "      <th>6</th>\n",
       "      <td>0.00</td>\n",
       "      <td>0.46</td>\n",
       "      <td>0.00</td>\n",
       "      <td>0.0</td>\n",
       "      <td>0.00</td>\n",
       "      <td>0.00</td>\n",
       "      <td>0.00</td>\n",
       "      <td>0.00</td>\n",
       "      <td>0.00</td>\n",
       "      <td>0.00</td>\n",
       "      <td>...</td>\n",
       "      <td>0.000</td>\n",
       "      <td>0.155</td>\n",
       "      <td>0.000</td>\n",
       "      <td>0.000</td>\n",
       "      <td>0.000</td>\n",
       "      <td>0.00</td>\n",
       "      <td>2.982</td>\n",
       "      <td>28</td>\n",
       "      <td>167</td>\n",
       "      <td>ham</td>\n",
       "    </tr>\n",
       "    <tr>\n",
       "      <th>7</th>\n",
       "      <td>0.00</td>\n",
       "      <td>0.00</td>\n",
       "      <td>0.00</td>\n",
       "      <td>0.0</td>\n",
       "      <td>0.00</td>\n",
       "      <td>0.00</td>\n",
       "      <td>0.00</td>\n",
       "      <td>0.00</td>\n",
       "      <td>0.00</td>\n",
       "      <td>0.00</td>\n",
       "      <td>...</td>\n",
       "      <td>0.000</td>\n",
       "      <td>0.000</td>\n",
       "      <td>0.138</td>\n",
       "      <td>0.000</td>\n",
       "      <td>0.000</td>\n",
       "      <td>0.00</td>\n",
       "      <td>1.228</td>\n",
       "      <td>4</td>\n",
       "      <td>43</td>\n",
       "      <td>ham</td>\n",
       "    </tr>\n",
       "    <tr>\n",
       "      <th>8</th>\n",
       "      <td>0.00</td>\n",
       "      <td>0.00</td>\n",
       "      <td>0.00</td>\n",
       "      <td>0.0</td>\n",
       "      <td>0.00</td>\n",
       "      <td>0.00</td>\n",
       "      <td>0.00</td>\n",
       "      <td>0.00</td>\n",
       "      <td>0.00</td>\n",
       "      <td>0.00</td>\n",
       "      <td>...</td>\n",
       "      <td>0.000</td>\n",
       "      <td>0.377</td>\n",
       "      <td>0.000</td>\n",
       "      <td>0.125</td>\n",
       "      <td>0.000</td>\n",
       "      <td>0.00</td>\n",
       "      <td>2.925</td>\n",
       "      <td>27</td>\n",
       "      <td>158</td>\n",
       "      <td>ham</td>\n",
       "    </tr>\n",
       "    <tr>\n",
       "      <th>9</th>\n",
       "      <td>0.00</td>\n",
       "      <td>0.00</td>\n",
       "      <td>0.00</td>\n",
       "      <td>0.0</td>\n",
       "      <td>0.00</td>\n",
       "      <td>0.00</td>\n",
       "      <td>0.00</td>\n",
       "      <td>0.00</td>\n",
       "      <td>0.00</td>\n",
       "      <td>0.00</td>\n",
       "      <td>...</td>\n",
       "      <td>0.000</td>\n",
       "      <td>0.000</td>\n",
       "      <td>0.000</td>\n",
       "      <td>0.000</td>\n",
       "      <td>0.000</td>\n",
       "      <td>0.00</td>\n",
       "      <td>4.333</td>\n",
       "      <td>11</td>\n",
       "      <td>13</td>\n",
       "      <td>ham</td>\n",
       "    </tr>\n",
       "  </tbody>\n",
       "</table>\n",
       "<p>10 rows × 58 columns</p>\n",
       "</div>"
      ],
      "text/plain": [
       "   make  address   all   3d   our  over  remove  internet  order  mail  ...  \\\n",
       "0  0.00     0.00  0.29  0.0  0.00  0.00    0.00      0.00   0.00  0.00  ...   \n",
       "1  0.46     0.00  0.00  0.0  0.00  0.00    0.00      0.00   0.00  0.00  ...   \n",
       "2  0.00     0.00  0.00  0.0  0.00  0.00    0.00      0.00   0.00  0.00  ...   \n",
       "3  0.33     0.44  0.37  0.0  0.14  0.11    0.00      0.07   0.97  1.16  ...   \n",
       "4  0.00     2.08  0.00  0.0  3.12  0.00    1.04      0.00   0.00  0.00  ...   \n",
       "5  0.00     0.00  0.27  0.0  0.81  0.81    0.00      2.98   0.54  0.81  ...   \n",
       "6  0.00     0.46  0.00  0.0  0.00  0.00    0.00      0.00   0.00  0.00  ...   \n",
       "7  0.00     0.00  0.00  0.0  0.00  0.00    0.00      0.00   0.00  0.00  ...   \n",
       "8  0.00     0.00  0.00  0.0  0.00  0.00    0.00      0.00   0.00  0.00  ...   \n",
       "9  0.00     0.00  0.00  0.0  0.00  0.00    0.00      0.00   0.00  0.00  ...   \n",
       "\n",
       "   semicol  paren  bracket   bang  dollar  pound  cap_avg  cap_long  \\\n",
       "0    0.000  0.178    0.000  0.044   0.000   0.00    1.666        10   \n",
       "1    0.000  0.125    0.000  0.000   0.000   0.00    1.510        10   \n",
       "2    0.000  0.000    0.000  0.000   0.000   0.00    1.718        11   \n",
       "3    0.006  0.159    0.000  0.069   0.221   0.11    3.426        72   \n",
       "4    0.000  0.000    0.000  0.263   0.000   0.00    1.428         4   \n",
       "5    0.000  0.040    0.000  0.565   0.121   0.00    1.617        18   \n",
       "6    0.000  0.155    0.000  0.000   0.000   0.00    2.982        28   \n",
       "7    0.000  0.000    0.138  0.000   0.000   0.00    1.228         4   \n",
       "8    0.000  0.377    0.000  0.125   0.000   0.00    2.925        27   \n",
       "9    0.000  0.000    0.000  0.000   0.000   0.00    4.333        11   \n",
       "\n",
       "   cap_total  Class  \n",
       "0        180    ham  \n",
       "1         74    ham  \n",
       "2         55    ham  \n",
       "3        819   spam  \n",
       "4         20   spam  \n",
       "5        131   spam  \n",
       "6        167    ham  \n",
       "7         43    ham  \n",
       "8        158    ham  \n",
       "9         13    ham  \n",
       "\n",
       "[10 rows x 58 columns]"
      ]
     },
     "execution_count": 170,
     "metadata": {},
     "output_type": "execute_result"
    }
   ],
   "source": [
    "#To display the top 10 rows.\n",
    "df.head(10)"
   ]
  },
  {
   "cell_type": "code",
   "execution_count": 171,
   "id": "302aacd5",
   "metadata": {},
   "outputs": [
    {
     "data": {
      "text/plain": [
       "make          0\n",
       "address       0\n",
       "all           0\n",
       "3d            0\n",
       "our           0\n",
       "over          0\n",
       "remove        0\n",
       "internet      0\n",
       "order         0\n",
       "mail          0\n",
       "receive       0\n",
       "will          0\n",
       "people        0\n",
       "report        0\n",
       "addresses     0\n",
       "free          0\n",
       "business      0\n",
       "email         0\n",
       "you           0\n",
       "credit        0\n",
       "your          0\n",
       "font          0\n",
       "0             0\n",
       "money         0\n",
       "hp            0\n",
       "hpl           0\n",
       "george        0\n",
       "650           0\n",
       "lab           0\n",
       "labs          0\n",
       "telnet        0\n",
       "857           0\n",
       "data          0\n",
       "415           0\n",
       "85            0\n",
       "technology    0\n",
       "1999          0\n",
       "parts         0\n",
       "pm            0\n",
       "direct        0\n",
       "cs            0\n",
       "meeting       0\n",
       "original      0\n",
       "project       0\n",
       "re            0\n",
       "edu           0\n",
       "table         0\n",
       "conference    0\n",
       "semicol       0\n",
       "paren         0\n",
       "bracket       0\n",
       "bang          0\n",
       "dollar        0\n",
       "pound         0\n",
       "cap_avg       0\n",
       "cap_long      0\n",
       "cap_total     0\n",
       "Class         0\n",
       "dtype: int64"
      ]
     },
     "execution_count": 171,
     "metadata": {},
     "output_type": "execute_result"
    }
   ],
   "source": [
    "# To verify if there are any null missing values.\n",
    "df.isna().sum()"
   ]
  },
  {
   "cell_type": "code",
   "execution_count": 172,
   "id": "bb2d0080",
   "metadata": {},
   "outputs": [
    {
     "name": "stderr",
     "output_type": "stream",
     "text": [
      "/Users/rajasekharreddy/opt/anaconda3/lib/python3.9/site-packages/seaborn/_decorators.py:36: FutureWarning: Pass the following variable as a keyword arg: x. From version 0.12, the only valid positional argument will be `data`, and passing other arguments without an explicit keyword will result in an error or misinterpretation.\n",
      "  warnings.warn(\n"
     ]
    },
    {
     "data": {
      "text/plain": [
       "<AxesSubplot:xlabel='Class', ylabel='count'>"
      ]
     },
     "execution_count": 172,
     "metadata": {},
     "output_type": "execute_result"
    },
    {
     "data": {
      "image/png": "[encoded data removed]",
      "text/plain": [
       "<Figure size 432x288 with 1 Axes>"
      ]
     },
     "metadata": {
      "needs_background": "light"
     },
     "output_type": "display_data"
    }
   ],
   "source": [
    "# To Check the distribution of target variable.\n",
    "sns.countplot(df['Class'])"
   ]
  },
  {
   "cell_type": "code",
   "execution_count": 173,
   "id": "d08233fa",
   "metadata": {},
   "outputs": [
    {
     "data": {
      "text/html": [
       "<div>\n",
       "<style scoped>\n",
       "    .dataframe tbody tr th:only-of-type {\n",
       "        vertical-align: middle;\n",
       "    }\n",
       "\n",
       "    .dataframe tbody tr th {\n",
       "        vertical-align: top;\n",
       "    }\n",
       "\n",
       "    .dataframe thead th {\n",
       "        text-align: right;\n",
       "    }\n",
       "</style>\n",
       "<table border=\"1\" class=\"dataframe\">\n",
       "  <thead>\n",
       "    <tr style=\"text-align: right;\">\n",
       "      <th></th>\n",
       "      <th>make</th>\n",
       "      <th>address</th>\n",
       "      <th>all</th>\n",
       "      <th>3d</th>\n",
       "      <th>our</th>\n",
       "      <th>over</th>\n",
       "      <th>remove</th>\n",
       "      <th>internet</th>\n",
       "      <th>order</th>\n",
       "      <th>mail</th>\n",
       "      <th>...</th>\n",
       "      <th>semicol</th>\n",
       "      <th>paren</th>\n",
       "      <th>bracket</th>\n",
       "      <th>bang</th>\n",
       "      <th>dollar</th>\n",
       "      <th>pound</th>\n",
       "      <th>cap_avg</th>\n",
       "      <th>cap_long</th>\n",
       "      <th>cap_total</th>\n",
       "      <th>Class</th>\n",
       "    </tr>\n",
       "  </thead>\n",
       "  <tbody>\n",
       "    <tr>\n",
       "      <th>0</th>\n",
       "      <td>0.00</td>\n",
       "      <td>0.00</td>\n",
       "      <td>0.29</td>\n",
       "      <td>0.0</td>\n",
       "      <td>0.00</td>\n",
       "      <td>0.00</td>\n",
       "      <td>0.00</td>\n",
       "      <td>0.00</td>\n",
       "      <td>0.00</td>\n",
       "      <td>0.00</td>\n",
       "      <td>...</td>\n",
       "      <td>0.000</td>\n",
       "      <td>0.178</td>\n",
       "      <td>0.0</td>\n",
       "      <td>0.044</td>\n",
       "      <td>0.000</td>\n",
       "      <td>0.00</td>\n",
       "      <td>1.666</td>\n",
       "      <td>10</td>\n",
       "      <td>180</td>\n",
       "      <td>0</td>\n",
       "    </tr>\n",
       "    <tr>\n",
       "      <th>1</th>\n",
       "      <td>0.46</td>\n",
       "      <td>0.00</td>\n",
       "      <td>0.00</td>\n",
       "      <td>0.0</td>\n",
       "      <td>0.00</td>\n",
       "      <td>0.00</td>\n",
       "      <td>0.00</td>\n",
       "      <td>0.00</td>\n",
       "      <td>0.00</td>\n",
       "      <td>0.00</td>\n",
       "      <td>...</td>\n",
       "      <td>0.000</td>\n",
       "      <td>0.125</td>\n",
       "      <td>0.0</td>\n",
       "      <td>0.000</td>\n",
       "      <td>0.000</td>\n",
       "      <td>0.00</td>\n",
       "      <td>1.510</td>\n",
       "      <td>10</td>\n",
       "      <td>74</td>\n",
       "      <td>0</td>\n",
       "    </tr>\n",
       "    <tr>\n",
       "      <th>2</th>\n",
       "      <td>0.00</td>\n",
       "      <td>0.00</td>\n",
       "      <td>0.00</td>\n",
       "      <td>0.0</td>\n",
       "      <td>0.00</td>\n",
       "      <td>0.00</td>\n",
       "      <td>0.00</td>\n",
       "      <td>0.00</td>\n",
       "      <td>0.00</td>\n",
       "      <td>0.00</td>\n",
       "      <td>...</td>\n",
       "      <td>0.000</td>\n",
       "      <td>0.000</td>\n",
       "      <td>0.0</td>\n",
       "      <td>0.000</td>\n",
       "      <td>0.000</td>\n",
       "      <td>0.00</td>\n",
       "      <td>1.718</td>\n",
       "      <td>11</td>\n",
       "      <td>55</td>\n",
       "      <td>0</td>\n",
       "    </tr>\n",
       "    <tr>\n",
       "      <th>3</th>\n",
       "      <td>0.33</td>\n",
       "      <td>0.44</td>\n",
       "      <td>0.37</td>\n",
       "      <td>0.0</td>\n",
       "      <td>0.14</td>\n",
       "      <td>0.11</td>\n",
       "      <td>0.00</td>\n",
       "      <td>0.07</td>\n",
       "      <td>0.97</td>\n",
       "      <td>1.16</td>\n",
       "      <td>...</td>\n",
       "      <td>0.006</td>\n",
       "      <td>0.159</td>\n",
       "      <td>0.0</td>\n",
       "      <td>0.069</td>\n",
       "      <td>0.221</td>\n",
       "      <td>0.11</td>\n",
       "      <td>3.426</td>\n",
       "      <td>72</td>\n",
       "      <td>819</td>\n",
       "      <td>1</td>\n",
       "    </tr>\n",
       "    <tr>\n",
       "      <th>4</th>\n",
       "      <td>0.00</td>\n",
       "      <td>2.08</td>\n",
       "      <td>0.00</td>\n",
       "      <td>0.0</td>\n",
       "      <td>3.12</td>\n",
       "      <td>0.00</td>\n",
       "      <td>1.04</td>\n",
       "      <td>0.00</td>\n",
       "      <td>0.00</td>\n",
       "      <td>0.00</td>\n",
       "      <td>...</td>\n",
       "      <td>0.000</td>\n",
       "      <td>0.000</td>\n",
       "      <td>0.0</td>\n",
       "      <td>0.263</td>\n",
       "      <td>0.000</td>\n",
       "      <td>0.00</td>\n",
       "      <td>1.428</td>\n",
       "      <td>4</td>\n",
       "      <td>20</td>\n",
       "      <td>1</td>\n",
       "    </tr>\n",
       "    <tr>\n",
       "      <th>...</th>\n",
       "      <td>...</td>\n",
       "      <td>...</td>\n",
       "      <td>...</td>\n",
       "      <td>...</td>\n",
       "      <td>...</td>\n",
       "      <td>...</td>\n",
       "      <td>...</td>\n",
       "      <td>...</td>\n",
       "      <td>...</td>\n",
       "      <td>...</td>\n",
       "      <td>...</td>\n",
       "      <td>...</td>\n",
       "      <td>...</td>\n",
       "      <td>...</td>\n",
       "      <td>...</td>\n",
       "      <td>...</td>\n",
       "      <td>...</td>\n",
       "      <td>...</td>\n",
       "      <td>...</td>\n",
       "      <td>...</td>\n",
       "      <td>...</td>\n",
       "    </tr>\n",
       "    <tr>\n",
       "      <th>4596</th>\n",
       "      <td>0.00</td>\n",
       "      <td>0.00</td>\n",
       "      <td>0.53</td>\n",
       "      <td>0.0</td>\n",
       "      <td>0.00</td>\n",
       "      <td>0.53</td>\n",
       "      <td>0.00</td>\n",
       "      <td>0.00</td>\n",
       "      <td>0.00</td>\n",
       "      <td>0.53</td>\n",
       "      <td>...</td>\n",
       "      <td>0.000</td>\n",
       "      <td>0.101</td>\n",
       "      <td>0.0</td>\n",
       "      <td>0.000</td>\n",
       "      <td>0.000</td>\n",
       "      <td>0.00</td>\n",
       "      <td>1.857</td>\n",
       "      <td>16</td>\n",
       "      <td>52</td>\n",
       "      <td>0</td>\n",
       "    </tr>\n",
       "    <tr>\n",
       "      <th>4597</th>\n",
       "      <td>0.00</td>\n",
       "      <td>0.00</td>\n",
       "      <td>0.00</td>\n",
       "      <td>0.0</td>\n",
       "      <td>0.00</td>\n",
       "      <td>0.00</td>\n",
       "      <td>0.00</td>\n",
       "      <td>0.00</td>\n",
       "      <td>0.00</td>\n",
       "      <td>0.00</td>\n",
       "      <td>...</td>\n",
       "      <td>0.000</td>\n",
       "      <td>0.443</td>\n",
       "      <td>0.0</td>\n",
       "      <td>0.221</td>\n",
       "      <td>0.665</td>\n",
       "      <td>0.00</td>\n",
       "      <td>3.812</td>\n",
       "      <td>15</td>\n",
       "      <td>61</td>\n",
       "      <td>1</td>\n",
       "    </tr>\n",
       "    <tr>\n",
       "      <th>4598</th>\n",
       "      <td>0.00</td>\n",
       "      <td>0.00</td>\n",
       "      <td>0.00</td>\n",
       "      <td>0.0</td>\n",
       "      <td>0.00</td>\n",
       "      <td>0.00</td>\n",
       "      <td>0.00</td>\n",
       "      <td>0.00</td>\n",
       "      <td>0.00</td>\n",
       "      <td>0.00</td>\n",
       "      <td>...</td>\n",
       "      <td>0.000</td>\n",
       "      <td>0.000</td>\n",
       "      <td>0.0</td>\n",
       "      <td>0.000</td>\n",
       "      <td>0.000</td>\n",
       "      <td>0.00</td>\n",
       "      <td>1.000</td>\n",
       "      <td>1</td>\n",
       "      <td>3</td>\n",
       "      <td>0</td>\n",
       "    </tr>\n",
       "    <tr>\n",
       "      <th>4599</th>\n",
       "      <td>0.00</td>\n",
       "      <td>0.00</td>\n",
       "      <td>0.00</td>\n",
       "      <td>0.0</td>\n",
       "      <td>0.00</td>\n",
       "      <td>0.00</td>\n",
       "      <td>0.00</td>\n",
       "      <td>0.00</td>\n",
       "      <td>0.00</td>\n",
       "      <td>0.00</td>\n",
       "      <td>...</td>\n",
       "      <td>0.000</td>\n",
       "      <td>0.218</td>\n",
       "      <td>0.0</td>\n",
       "      <td>0.218</td>\n",
       "      <td>0.000</td>\n",
       "      <td>0.00</td>\n",
       "      <td>1.687</td>\n",
       "      <td>10</td>\n",
       "      <td>27</td>\n",
       "      <td>0</td>\n",
       "    </tr>\n",
       "    <tr>\n",
       "      <th>4600</th>\n",
       "      <td>0.13</td>\n",
       "      <td>0.26</td>\n",
       "      <td>0.52</td>\n",
       "      <td>0.0</td>\n",
       "      <td>0.26</td>\n",
       "      <td>0.00</td>\n",
       "      <td>0.13</td>\n",
       "      <td>0.00</td>\n",
       "      <td>0.00</td>\n",
       "      <td>0.39</td>\n",
       "      <td>...</td>\n",
       "      <td>0.000</td>\n",
       "      <td>0.000</td>\n",
       "      <td>0.0</td>\n",
       "      <td>0.366</td>\n",
       "      <td>0.000</td>\n",
       "      <td>0.04</td>\n",
       "      <td>7.138</td>\n",
       "      <td>149</td>\n",
       "      <td>1235</td>\n",
       "      <td>1</td>\n",
       "    </tr>\n",
       "  </tbody>\n",
       "</table>\n",
       "<p>4601 rows × 58 columns</p>\n",
       "</div>"
      ],
      "text/plain": [
       "      make  address   all   3d   our  over  remove  internet  order  mail  \\\n",
       "0     0.00     0.00  0.29  0.0  0.00  0.00    0.00      0.00   0.00  0.00   \n",
       "1     0.46     0.00  0.00  0.0  0.00  0.00    0.00      0.00   0.00  0.00   \n",
       "2     0.00     0.00  0.00  0.0  0.00  0.00    0.00      0.00   0.00  0.00   \n",
       "3     0.33     0.44  0.37  0.0  0.14  0.11    0.00      0.07   0.97  1.16   \n",
       "4     0.00     2.08  0.00  0.0  3.12  0.00    1.04      0.00   0.00  0.00   \n",
       "...    ...      ...   ...  ...   ...   ...     ...       ...    ...   ...   \n",
       "4596  0.00     0.00  0.53  0.0  0.00  0.53    0.00      0.00   0.00  0.53   \n",
       "4597  0.00     0.00  0.00  0.0  0.00  0.00    0.00      0.00   0.00  0.00   \n",
       "4598  0.00     0.00  0.00  0.0  0.00  0.00    0.00      0.00   0.00  0.00   \n",
       "4599  0.00     0.00  0.00  0.0  0.00  0.00    0.00      0.00   0.00  0.00   \n",
       "4600  0.13     0.26  0.52  0.0  0.26  0.00    0.13      0.00   0.00  0.39   \n",
       "\n",
       "      ...  semicol  paren  bracket   bang  dollar  pound  cap_avg  cap_long  \\\n",
       "0     ...    0.000  0.178      0.0  0.044   0.000   0.00    1.666        10   \n",
       "1     ...    0.000  0.125      0.0  0.000   0.000   0.00    1.510        10   \n",
       "2     ...    0.000  0.000      0.0  0.000   0.000   0.00    1.718        11   \n",
       "3     ...    0.006  0.159      0.0  0.069   0.221   0.11    3.426        72   \n",
       "4     ...    0.000  0.000      0.0  0.263   0.000   0.00    1.428         4   \n",
       "...   ...      ...    ...      ...    ...     ...    ...      ...       ...   \n",
       "4596  ...    0.000  0.101      0.0  0.000   0.000   0.00    1.857        16   \n",
       "4597  ...    0.000  0.443      0.0  0.221   0.665   0.00    3.812        15   \n",
       "4598  ...    0.000  0.000      0.0  0.000   0.000   0.00    1.000         1   \n",
       "4599  ...    0.000  0.218      0.0  0.218   0.000   0.00    1.687        10   \n",
       "4600  ...    0.000  0.000      0.0  0.366   0.000   0.04    7.138       149   \n",
       "\n",
       "      cap_total  Class  \n",
       "0           180      0  \n",
       "1            74      0  \n",
       "2            55      0  \n",
       "3           819      1  \n",
       "4            20      1  \n",
       "...         ...    ...  \n",
       "4596         52      0  \n",
       "4597         61      1  \n",
       "4598          3      0  \n",
       "4599         27      0  \n",
       "4600       1235      1  \n",
       "\n",
       "[4601 rows x 58 columns]"
      ]
     },
     "execution_count": 173,
     "metadata": {},
     "output_type": "execute_result"
    }
   ],
   "source": [
    "# Replacing the categorical variables to binary variables.\n",
    "df['Class']=df[\"Class\"].replace({\"ham\":0,\"spam\":1})\n",
    "df"
   ]
  },
  {
   "cell_type": "code",
   "execution_count": 174,
   "id": "94f63bc6",
   "metadata": {},
   "outputs": [],
   "source": [
    "# Dividing the data as per independent \n",
    "x=df.drop(columns=[\"Class\"],axis=1)"
   ]
  },
  {
   "cell_type": "code",
   "execution_count": 175,
   "id": "13fe17d4",
   "metadata": {},
   "outputs": [],
   "source": [
    "# Seperate the target variable.\n",
    "y=df[\"Class\"].values"
   ]
  },
  {
   "cell_type": "code",
   "execution_count": 176,
   "id": "cb3129fa",
   "metadata": {},
   "outputs": [],
   "source": [
    "# Splitting the data as per the test_size = 0.78 which considers the 1012 rows for training data.\n",
    "# 4601 Rows, 1012 as Training and 3589 as Testing data.\n",
    "# Random state is a parameter used to control the randomness of a sample. The model will always provide a same results if it has a definite value of random state, and if it has been same training data and same hyperparameters.\n",
    "from sklearn.model_selection import train_test_split\n",
    "x_train,x_test,y_train,y_test=train_test_split(x,y, train_size=1000,random_state=44)"
   ]
  },
  {
   "cell_type": "code",
   "execution_count": 177,
   "id": "ce6ba8b7",
   "metadata": {},
   "outputs": [
    {
     "name": "stdout",
     "output_type": "stream",
     "text": [
      "1000\n",
      "3601\n"
     ]
    }
   ],
   "source": [
    "# To display the train data and test data.\n",
    "print(x_train.shape[0])\n",
    "print(x_test.shape[0])"
   ]
  },
  {
   "cell_type": "code",
   "execution_count": 178,
   "id": "e9c15c65",
   "metadata": {},
   "outputs": [
    {
     "name": "stdout",
     "output_type": "stream",
     "text": [
      "[0 0 0 0 1 1 0 0 1 0 1 0 0 0 1 1 0 1 1 0 0 0 0 0 0 1 0 0 1 1 0 1 1 1 0 1 1\n",
      " 1 1 0 0 1 1 0 0 0 0 1 0 1 0 1 0 1 0 1 0 0 1 0 0 0 0 1 1 0 0 0 0 0 0 0 0 1\n",
      " 0 0 1 0 0 0 0 1 0 1 0 0 0 1 1 0 0 0 0 1 1 0 0 1 0 1 0 0 0 0 1 0 0 0 0 0 1\n",
      " 0 0 0 0 0 0 0 0 0 1 1 0 0 1 0 0 0 0 0 0 0 0 0 1 0 0 0 1 1 0 0 0 0 1 0 1 1\n",
      " 1 1 0 1 1 0 0 0 0 0 0 0 0 1 1 1 1 1 0 0 0 0 1 1 0 0 0 0 0 1 1 0 1 0 0 1 1\n",
      " 0 1 1 0 0 1 1 0 1 0 0 0 1 0 1 0 0 1 0 0 0 1 0 0 0 0 0 1 1 0 1 1 1 1 0 0 1\n",
      " 1 0 0 1 0 0 0 0 0 0 0 0 1 0 0 1 0 1 0 1 0 0 1 0 0 1 0 1 1 1 0 1 0 0 0 1 1\n",
      " 1 1 1 1 0 0 1 0 0 0 0 1 0 1 0 0 1 0 0 0 1 0 0 1 1 1 0 0 1 0 1 0 0 0 1 1 1\n",
      " 1 1 1 1 1 0 0 0 0 1 0 0 0 0 0 1 1 1 1 0 0 0 0 1 0 0 0 0 0 1 1 1 0 0 1 0 0\n",
      " 0 0 1 1 1 1 0 1 1 1 0 0 0 0 0 0 0 0 0 0 1 0 0 1 0 1 1 1 0 1 1 0 0 0 0 0 1\n",
      " 1 1 0 1 0 1 1 0 0 0 1 0 0 1 1 1 1 1 0 0 1 0 1 0 0 0 1 0 1 1 0 1 1 0 0 1 0\n",
      " 0 1 0 0 0 0 0 0 1 0 1 1 0 0 1 0 0 0 0 1 0 0 0 0 1 0 0 0 1 0 0 1 0 0 1 1 0\n",
      " 0 0 0 1 1 0 0 0 1 0 1 0 0 0 0 0 0 0 1 0 0 0 0 1 0 0 1 0 0 0 0 0 0 0 0 0 0\n",
      " 0 1 0 1 0 1 0 0 0 0 0 1 0 0 0 0 1 0 1 0 0 0 0 0 0 1 0 0 1 0 1 0 1 0 0 0 1\n",
      " 1 0 1 1 0 0 1 1 0 0 0 0 1 1 0 0 0 1 0 0 1 0 1 0 0 0 0 0 1 0 0 0 0 0 1 0 1\n",
      " 1 0 1 0 0 0 0 1 0 0 0 1 1 0 0 0 0 0 1 0 1 1 1 1 1 0 0 0 1 0 0 1 0 0 0 1 1\n",
      " 1 0 0 1 1 1 1 1 1 0 0 0 0 1 0 0 0 0 0 1 0 0 0 1 0 0 0 0 0 1 1 0 0 0 0 0 1\n",
      " 0 1 0 0 0 0 0 0 1 1 1 0 1 0 1 0 1 0 1 1 1 0 0 0 0 0 0 1 0 0 0 1 0 0 1 0 0\n",
      " 0 1 1 1 0 0 1 1 0 0 0 0 1 0 0 1 1 1 0 0 1 0 0 1 1 1 1 1 1 0 1 0 0 1 1 1 1\n",
      " 1 0 1 1 1 1 0 1 0 0 1 1 0 1 0 0 1 0 1 1 0 0 1 0 0 0 1 0 0 0 1 0 1 1 0 0 0\n",
      " 1 0 1 0 1 0 0 0 1 0 0 1 0 1 1 0 0 0 0 0 0 0 1 1 1 0 0 0 1 1 0 0 1 0 1 1 0\n",
      " 0 0 1 0 0 0 0 1 0 0 1 0 0 0 1 0 0 0 0 0 0 0 0 0 1 0 0 0 0 0 0 1 0 0 0 1 1\n",
      " 0 1 1 0 1 0 1 0 0 1 0 0 0 1 1 1 0 0 1 0 0 0 0 0 1 0 0 0 1 1 0 0 0 0 0 1 0\n",
      " 0 1 0 0 1 0 0 0 1 0 1 1 0 0 1 0 1 0 0 0 0 1 1 0 1 0 0 1 0 0 1 0 0 0 0 0 0\n",
      " 0 0 1 0 0 0 0 0 0 0 1 0 1 0 0 0 0 1 1 0 0 0 0 0 1 0 1 1 1 0 0 0 0 0 1 1 0\n",
      " 1 0 1 0 1 1 1 0 0 1 1 0 0 0 1 0 1 0 1 0 1 0 0 1 0 0 1 0 1 1 0 0 1 1 0 0 0\n",
      " 0 0 1 0 0 0 0 0 1 0 1 0 0 0 1 0 0 0 0 1 1 1 0 1 0 0 0 1 0 0 1 1 1 1 0 0 0\n",
      " 1]\n"
     ]
    }
   ],
   "source": [
    "print(y_train)"
   ]
  },
  {
   "cell_type": "code",
   "execution_count": 202,
   "id": "7b039bc2",
   "metadata": {},
   "outputs": [
    {
     "name": "stdout",
     "output_type": "stream",
     "text": [
      "make          float64\n",
      "address       float64\n",
      "all           float64\n",
      "3d            float64\n",
      "our           float64\n",
      "over          float64\n",
      "remove        float64\n",
      "internet      float64\n",
      "order         float64\n",
      "mail          float64\n",
      "receive       float64\n",
      "will          float64\n",
      "people        float64\n",
      "report        float64\n",
      "addresses     float64\n",
      "free          float64\n",
      "business      float64\n",
      "email         float64\n",
      "you           float64\n",
      "credit        float64\n",
      "your          float64\n",
      "font          float64\n",
      "0             float64\n",
      "money         float64\n",
      "hp            float64\n",
      "hpl           float64\n",
      "george        float64\n",
      "650           float64\n",
      "lab           float64\n",
      "labs          float64\n",
      "telnet        float64\n",
      "857           float64\n",
      "data          float64\n",
      "415           float64\n",
      "85            float64\n",
      "technology    float64\n",
      "1999          float64\n",
      "parts         float64\n",
      "pm            float64\n",
      "direct        float64\n",
      "cs            float64\n",
      "meeting       float64\n",
      "original      float64\n",
      "project       float64\n",
      "re            float64\n",
      "edu           float64\n",
      "table         float64\n",
      "conference    float64\n",
      "semicol       float64\n",
      "paren         float64\n",
      "bracket       float64\n",
      "bang          float64\n",
      "dollar        float64\n",
      "pound         float64\n",
      "cap_avg       float64\n",
      "cap_long        int64\n",
      "cap_total       int64\n",
      "Class           int64\n",
      "dtype: object\n"
     ]
    }
   ],
   "source": [
    "print(df.dtypes)"
   ]
  },
  {
   "cell_type": "code",
   "execution_count": 204,
   "id": "f4a7655f",
   "metadata": {},
   "outputs": [
    {
     "name": "stderr",
     "output_type": "stream",
     "text": [
      "/Users/rajasekharreddy/opt/anaconda3/lib/python3.9/site-packages/sklearn/utils/validation.py:1688: FutureWarning: Feature names only support names that are all strings. Got feature names with dtypes: ['int', 'str']. An error will be raised in 1.2.\n",
      "  warnings.warn(\n"
     ]
    },
    {
     "data": {
      "text/plain": [
       "DecisionTreeClassifier(criterion='entropy')"
      ]
     },
     "execution_count": 204,
     "metadata": {},
     "output_type": "execute_result"
    }
   ],
   "source": [
    "#let's first visualize the tree on the data with just criterion='entropy.'\n",
    "clf = DecisionTreeClassifier(criterion=\"entropy\")\n",
    "clf.fit(x_train,y_train)"
   ]
  },
  {
   "cell_type": "code",
   "execution_count": 205,
   "id": "a3651731",
   "metadata": {},
   "outputs": [
    {
     "name": "stdout",
     "output_type": "stream",
     "text": [
      "1.0.2\n"
     ]
    }
   ],
   "source": [
    "import sklearn\n",
    "print(sklearn.__version__)"
   ]
  },
  {
   "cell_type": "code",
   "execution_count": 206,
   "id": "7c52ff9a",
   "metadata": {},
   "outputs": [
    {
     "name": "stdout",
     "output_type": "stream",
     "text": [
      "      make  address   all   3d   our  over  remove  internet  order  mail  \\\n",
      "2835  0.17     0.00  0.17  0.0  1.47  0.35    0.00      0.05   0.05  0.05   \n",
      "644   0.25     0.00  0.25  0.0  0.00  0.00    0.25      0.00   0.77  1.55   \n",
      "3898  0.31     0.00  0.63  0.0  0.47  0.47    0.15      0.79   0.15  0.63   \n",
      "3911  0.00     0.00  0.00  0.0  0.00  0.00    0.45      0.91   0.45  0.91   \n",
      "809   0.00     0.00  0.00  0.0  0.33  0.00    0.00      0.00   0.00  0.66   \n",
      "...    ...      ...   ...  ...   ...   ...     ...       ...    ...   ...   \n",
      "1676  0.00     0.00  0.00  0.0  0.00  0.00    0.00      0.00   0.00  0.00   \n",
      "1952  0.00     1.17  0.00  0.0  0.00  0.00    0.00      0.00   1.17  0.00   \n",
      "732   0.00     0.00  0.00  0.0  0.00  0.00    0.00      0.00   0.00  0.00   \n",
      "1013  0.00     0.00  0.00  0.0  0.00  0.00    0.00      0.00   0.00  0.00   \n",
      "2665  0.00     0.00  0.00  0.0  0.00  0.00    0.00      0.00   0.00  0.00   \n",
      "\n",
      "      ...  conference  semicol  paren  bracket   bang  dollar  pound  cap_avg  \\\n",
      "2835  ...        0.00    0.010  0.051    0.000  0.010   0.165   0.00    1.790   \n",
      "644   ...        0.00    0.000  0.404    0.000  0.161   0.161   0.04    9.633   \n",
      "3898  ...        0.00    0.000  0.076    0.000  1.300   0.127   0.00    5.241   \n",
      "3911  ...        0.00    0.000  0.254    0.000  0.063   0.127   0.00    4.735   \n",
      "809   ...        0.00    0.349  0.524    0.116  0.000   0.000   0.00    3.627   \n",
      "...   ...         ...      ...    ...      ...    ...     ...    ...      ...   \n",
      "1676  ...        0.00    0.000  0.000    0.000  0.000   0.000   0.00    1.000   \n",
      "1952  ...        1.17    0.376  0.000    0.000  0.000   0.000   0.00    2.925   \n",
      "732   ...        0.00    0.000  0.000    0.000  0.000   0.000   0.00    2.603   \n",
      "1013  ...        0.00    0.000  0.000    0.000  0.000   0.000   0.00    1.181   \n",
      "2665  ...        0.00    0.000  0.000    0.000  0.000   0.000   0.00    1.500   \n",
      "\n",
      "      cap_long  cap_total  \n",
      "2835        12        453  \n",
      "644        110        578  \n",
      "3898        97        650  \n",
      "3911        46        161  \n",
      "809         19        341  \n",
      "...        ...        ...  \n",
      "1676         1          4  \n",
      "1952        16        117  \n",
      "732         16        164  \n",
      "1013         3         13  \n",
      "2665         4         18  \n",
      "\n",
      "[3601 rows x 57 columns]\n"
     ]
    }
   ],
   "source": [
    "print(x_test)"
   ]
  },
  {
   "cell_type": "code",
   "execution_count": 207,
   "id": "3f1265af",
   "metadata": {},
   "outputs": [
    {
     "name": "stderr",
     "output_type": "stream",
     "text": [
      "/Users/rajasekharreddy/opt/anaconda3/lib/python3.9/site-packages/sklearn/utils/validation.py:1688: FutureWarning: Feature names only support names that are all strings. Got feature names with dtypes: ['int', 'str']. An error will be raised in 1.2.\n",
      "  warnings.warn(\n"
     ]
    }
   ],
   "source": [
    "# predict is a function used to predict the target varibles fr the x_train dataset.\n",
    "y_hat=clf.predict(x_test)"
   ]
  },
  {
   "cell_type": "code",
   "execution_count": 208,
   "id": "73b2fa17",
   "metadata": {},
   "outputs": [],
   "source": [
    "# Used to calculate accuracy score.\n",
    "from sklearn.metrics import accuracy_score"
   ]
  },
  {
   "cell_type": "code",
   "execution_count": 209,
   "id": "3232e14d",
   "metadata": {},
   "outputs": [
    {
     "data": {
      "text/plain": [
       "array([[2021,  139],\n",
       "       [ 265, 1176]])"
      ]
     },
     "execution_count": 209,
     "metadata": {},
     "output_type": "execute_result"
    }
   ],
   "source": [
    "from sklearn.metrics import classification_report, confusion_matrix, accuracy_score\n",
    "# Confusion Matrix\n",
    "conf_mat = confusion_matrix(y_test,y_hat)\n",
    "conf_mat"
   ]
  },
  {
   "cell_type": "code",
   "execution_count": 210,
   "id": "d4bc7dc0",
   "metadata": {},
   "outputs": [
    {
     "data": {
      "text/plain": [
       "0.8878089419605665"
      ]
     },
     "execution_count": 210,
     "metadata": {},
     "output_type": "execute_result"
    }
   ],
   "source": [
    "accuracy_score(y_test,y_hat)"
   ]
  },
  {
   "cell_type": "code",
   "execution_count": 211,
   "id": "63ea7bca",
   "metadata": {},
   "outputs": [],
   "source": [
    "# Depends on the value we took.\n",
    "# accuracy_score(y_hat,y_test)\n",
    "true_positive = conf_mat[1][1]\n",
    "false_negative = conf_mat[1][0]\n",
    "false_positive= conf_mat[0][1] \n",
    "true_negative = conf_mat[0][0]"
   ]
  },
  {
   "cell_type": "code",
   "execution_count": 212,
   "id": "9ededc05",
   "metadata": {},
   "outputs": [
    {
     "data": {
      "text/plain": [
       "0.8878089419605665"
      ]
     },
     "execution_count": 212,
     "metadata": {},
     "output_type": "execute_result"
    }
   ],
   "source": [
    "# Classification Accuracy.\n",
    "Accuracy = (true_positive + true_negative) / (true_positive +false_positive + false_negative + true_negative)\n",
    "Accuracy"
   ]
  },
  {
   "cell_type": "code",
   "execution_count": 213,
   "id": "0dba99ff",
   "metadata": {},
   "outputs": [
    {
     "data": {
      "text/plain": [
       "0.8160999306037474"
      ]
     },
     "execution_count": 213,
     "metadata": {},
     "output_type": "execute_result"
    }
   ],
   "source": [
    "# Per class Accuracy.\n",
    "Per_class_acc_true_pos = true_positive / (true_positive+false_negative)\n",
    "Per_class_acc_true_pos"
   ]
  },
  {
   "cell_type": "code",
   "execution_count": 214,
   "id": "dff309d1",
   "metadata": {},
   "outputs": [
    {
     "data": {
      "text/plain": [
       "0.9356481481481481"
      ]
     },
     "execution_count": 214,
     "metadata": {},
     "output_type": "execute_result"
    }
   ],
   "source": [
    "# Per class Accuracy for negative value.\n",
    "Per_class_acc_true_neg = true_negative/(false_positive+true_negative)\n",
    "Per_class_acc_true_neg\n"
   ]
  },
  {
   "cell_type": "code",
   "execution_count": 215,
   "id": "36618606",
   "metadata": {},
   "outputs": [
    {
     "data": {
      "text/plain": [
       "0.8942965779467681"
      ]
     },
     "execution_count": 215,
     "metadata": {},
     "output_type": "execute_result"
    }
   ],
   "source": [
    "# Precison\n",
    "Precision = true_positive/(true_positive+false_positive)\n",
    "Precision"
   ]
  },
  {
   "cell_type": "code",
   "execution_count": 216,
   "id": "a5251e90",
   "metadata": {},
   "outputs": [
    {
     "data": {
      "text/plain": [
       "0.8160999306037474"
      ]
     },
     "execution_count": 216,
     "metadata": {},
     "output_type": "execute_result"
    }
   ],
   "source": [
    "# Recall\n",
    "Recall = true_positive/(true_positive+false_negative)\n",
    "Recall"
   ]
  },
  {
   "cell_type": "code",
   "execution_count": 217,
   "id": "fec914ed",
   "metadata": {},
   "outputs": [
    {
     "data": {
      "text/plain": [
       "0.853410740203193"
      ]
     },
     "execution_count": 217,
     "metadata": {},
     "output_type": "execute_result"
    }
   ],
   "source": [
    "# F1 Score\n",
    "F1_Score = 2*(Recall * Precision) / (Recall + Precision)\n",
    "F1_Score"
   ]
  },
  {
   "cell_type": "code",
   "execution_count": 218,
   "id": "f8dd1ca2",
   "metadata": {},
   "outputs": [
    {
     "name": "stdout",
     "output_type": "stream",
     "text": [
      "[0.         0.06435185 1.        ]\n",
      "[0.         0.81609993 1.        ]\n"
     ]
    },
    {
     "data": {
      "text/plain": [
       "array([2, 1, 0])"
      ]
     },
     "execution_count": 218,
     "metadata": {},
     "output_type": "execute_result"
    }
   ],
   "source": [
    "# Area Under Curve\n",
    "from sklearn.metrics import roc_auc_score,roc_curve\n",
    "auc = roc_auc_score(y_test, y_hat)\n",
    "auc\n",
    "fpr, tpr, thresholds = roc_curve(y_test, y_hat)\n",
    "print(fpr)\n",
    "print(tpr)\n",
    "thresholds"
   ]
  },
  {
   "cell_type": "code",
   "execution_count": 219,
   "id": "99f31ba8",
   "metadata": {},
   "outputs": [
    {
     "data": {
      "image/png": "[encoded data removed]",
      "text/plain": [
       "<Figure size 432x288 with 1 Axes>"
      ]
     },
     "metadata": {
      "needs_background": "light"
     },
     "output_type": "display_data"
    }
   ],
   "source": [
    "plt.plot(fpr, tpr, color='orange', label='ROC')\n",
    "plt.plot([0, 1], [0, 1], color='darkblue', linestyle='--',label='ROC curve (area = %0.2f)' % auc)\n",
    "plt.xlabel('False Positive Rate')\n",
    "plt.ylabel('True Positive Rate')\n",
    "plt.title('Receiver Operating Characteristic (ROC) Curve')\n",
    "plt.legend()\n",
    "plt.show()"
   ]
  },
  {
   "cell_type": "code",
   "execution_count": 220,
   "id": "79b36551",
   "metadata": {},
   "outputs": [
    {
     "name": "stdout",
     "output_type": "stream",
     "text": [
      "Requirement already satisfied: pydotplus in /Users/rajasekharreddy/opt/anaconda3/lib/python3.9/site-packages (2.0.2)\n",
      "Requirement already satisfied: pyparsing>=2.0.1 in /Users/rajasekharreddy/opt/anaconda3/lib/python3.9/site-packages (from pydotplus) (3.0.4)\n",
      "Note: you may need to restart the kernel to use updated packages.\n"
     ]
    }
   ],
   "source": [
    "pip install pydotplus"
   ]
  },
  {
   "cell_type": "code",
   "execution_count": 221,
   "id": "b14d8066",
   "metadata": {},
   "outputs": [],
   "source": [
    "from IPython.display import Image  \n",
    "from sklearn.tree import export_graphviz\n",
    "import pydotplus\n",
    "import matplotlib.pyplot as plt"
   ]
  },
  {
   "cell_type": "code",
   "execution_count": 227,
   "id": "0fa17542",
   "metadata": {},
   "outputs": [
    {
     "data": {
      "text/plain": [
       "[Text(0.7055921052631579, 0.9666666666666667, 'X[52] <= 0.056\\nentropy = 0.952\\nsamples = 1000\\nvalue = [628, 372]'),\n",
       " Text(0.5405701754385965, 0.9, 'X[6] <= 0.03\\nentropy = 0.734\\nsamples = 742\\nvalue = [589, 153]'),\n",
       " Text(0.3969298245614035, 0.8333333333333334, 'X[51] <= 0.511\\nentropy = 0.583\\nsamples = 674\\nvalue = [580, 94]'),\n",
       " Text(0.25, 0.7666666666666667, 'X[24] <= 0.04\\nentropy = 0.377\\nsamples = 603\\nvalue = [559, 44]'),\n",
       " Text(0.2324561403508772, 0.7, 'X[55] <= 9.5\\nentropy = 0.5\\nsamples = 400\\nvalue = [356, 44]'),\n",
       " Text(0.11403508771929824, 0.6333333333333333, 'X[4] <= 0.925\\nentropy = 0.186\\nsamples = 247\\nvalue = [240, 7]'),\n",
       " Text(0.07017543859649122, 0.5666666666666667, 'X[54] <= 1.268\\nentropy = 0.074\\nsamples = 224\\nvalue = [222, 2]'),\n",
       " Text(0.05263157894736842, 0.5, 'X[54] <= 1.258\\nentropy = 0.134\\nsamples = 107\\nvalue = [105, 2]'),\n",
       " Text(0.03508771929824561, 0.43333333333333335, 'X[18] <= 4.65\\nentropy = 0.077\\nsamples = 106\\nvalue = [105, 1]'),\n",
       " Text(0.017543859649122806, 0.36666666666666664, 'entropy = 0.0\\nsamples = 92\\nvalue = [92, 0]'),\n",
       " Text(0.05263157894736842, 0.36666666666666664, 'X[18] <= 4.78\\nentropy = 0.371\\nsamples = 14\\nvalue = [13, 1]'),\n",
       " Text(0.03508771929824561, 0.3, 'entropy = 0.0\\nsamples = 1\\nvalue = [0, 1]'),\n",
       " Text(0.07017543859649122, 0.3, 'entropy = 0.0\\nsamples = 13\\nvalue = [13, 0]'),\n",
       " Text(0.07017543859649122, 0.43333333333333335, 'entropy = 0.0\\nsamples = 1\\nvalue = [0, 1]'),\n",
       " Text(0.08771929824561403, 0.5, 'entropy = 0.0\\nsamples = 117\\nvalue = [117, 0]'),\n",
       " Text(0.15789473684210525, 0.5666666666666667, 'X[2] <= 0.505\\nentropy = 0.755\\nsamples = 23\\nvalue = [18, 5]'),\n",
       " Text(0.12280701754385964, 0.5, 'X[17] <= 0.235\\nentropy = 0.31\\nsamples = 18\\nvalue = [17, 1]'),\n",
       " Text(0.10526315789473684, 0.43333333333333335, 'entropy = 0.0\\nsamples = 16\\nvalue = [16, 0]'),\n",
       " Text(0.14035087719298245, 0.43333333333333335, 'X[49] <= 0.288\\nentropy = 1.0\\nsamples = 2\\nvalue = [1, 1]'),\n",
       " Text(0.12280701754385964, 0.36666666666666664, 'entropy = 0.0\\nsamples = 1\\nvalue = [1, 0]'),\n",
       " Text(0.15789473684210525, 0.36666666666666664, 'entropy = 0.0\\nsamples = 1\\nvalue = [0, 1]'),\n",
       " Text(0.19298245614035087, 0.5, 'X[41] <= 2.04\\nentropy = 0.722\\nsamples = 5\\nvalue = [1, 4]'),\n",
       " Text(0.17543859649122806, 0.43333333333333335, 'entropy = 0.0\\nsamples = 4\\nvalue = [0, 4]'),\n",
       " Text(0.21052631578947367, 0.43333333333333335, 'entropy = 0.0\\nsamples = 1\\nvalue = [1, 0]'),\n",
       " Text(0.3508771929824561, 0.6333333333333333, 'X[4] <= 0.055\\nentropy = 0.798\\nsamples = 153\\nvalue = [116, 37]'),\n",
       " Text(0.2807017543859649, 0.5666666666666667, 'X[55] <= 39.0\\nentropy = 0.56\\nsamples = 107\\nvalue = [93, 14]'),\n",
       " Text(0.2631578947368421, 0.5, 'X[23] <= 0.585\\nentropy = 0.711\\nsamples = 72\\nvalue = [58, 14]'),\n",
       " Text(0.24561403508771928, 0.43333333333333335, 'X[48] <= 0.086\\nentropy = 0.633\\nsamples = 69\\nvalue = [58, 11]'),\n",
       " Text(0.21052631578947367, 0.36666666666666664, 'X[55] <= 33.5\\nentropy = 0.503\\nsamples = 63\\nvalue = [56, 7]'),\n",
       " Text(0.19298245614035087, 0.3, 'X[56] <= 48.5\\nentropy = 0.409\\nsamples = 61\\nvalue = [56, 5]'),\n",
       " Text(0.17543859649122806, 0.23333333333333334, 'X[0] <= 0.265\\nentropy = 0.755\\nsamples = 23\\nvalue = [18, 5]'),\n",
       " Text(0.15789473684210525, 0.16666666666666666, 'X[18] <= 3.735\\nentropy = 0.592\\nsamples = 21\\nvalue = [18, 3]'),\n",
       " Text(0.14035087719298245, 0.1, 'entropy = 0.0\\nsamples = 17\\nvalue = [17, 0]'),\n",
       " Text(0.17543859649122806, 0.1, 'X[55] <= 18.5\\nentropy = 0.811\\nsamples = 4\\nvalue = [1, 3]'),\n",
       " Text(0.15789473684210525, 0.03333333333333333, 'entropy = 0.0\\nsamples = 3\\nvalue = [0, 3]'),\n",
       " Text(0.19298245614035087, 0.03333333333333333, 'entropy = 0.0\\nsamples = 1\\nvalue = [1, 0]'),\n",
       " Text(0.19298245614035087, 0.16666666666666666, 'entropy = 0.0\\nsamples = 2\\nvalue = [0, 2]'),\n",
       " Text(0.21052631578947367, 0.23333333333333334, 'entropy = 0.0\\nsamples = 38\\nvalue = [38, 0]'),\n",
       " Text(0.22807017543859648, 0.3, 'entropy = 0.0\\nsamples = 2\\nvalue = [0, 2]'),\n",
       " Text(0.2807017543859649, 0.36666666666666664, 'X[55] <= 15.5\\nentropy = 0.918\\nsamples = 6\\nvalue = [2, 4]'),\n",
       " Text(0.2631578947368421, 0.3, 'entropy = 0.0\\nsamples = 2\\nvalue = [2, 0]'),\n",
       " Text(0.2982456140350877, 0.3, 'entropy = 0.0\\nsamples = 4\\nvalue = [0, 4]'),\n",
       " Text(0.2807017543859649, 0.43333333333333335, 'entropy = 0.0\\nsamples = 3\\nvalue = [0, 3]'),\n",
       " Text(0.2982456140350877, 0.5, 'entropy = 0.0\\nsamples = 35\\nvalue = [35, 0]'),\n",
       " Text(0.42105263157894735, 0.5666666666666667, 'X[54] <= 3.065\\nentropy = 1.0\\nsamples = 46\\nvalue = [23, 23]'),\n",
       " Text(0.38596491228070173, 0.5, 'X[29] <= 0.055\\nentropy = 0.937\\nsamples = 34\\nvalue = [22, 12]'),\n",
       " Text(0.3684210526315789, 0.43333333333333335, 'X[49] <= 0.084\\nentropy = 0.837\\nsamples = 30\\nvalue = [22, 8]'),\n",
       " Text(0.3508771929824561, 0.36666666666666664, 'X[16] <= 0.075\\nentropy = 0.997\\nsamples = 15\\nvalue = [7, 8]'),\n",
       " Text(0.3333333333333333, 0.3, 'X[54] <= 1.825\\nentropy = 0.946\\nsamples = 11\\nvalue = [7, 4]'),\n",
       " Text(0.3157894736842105, 0.23333333333333334, 'entropy = 0.0\\nsamples = 6\\nvalue = [6, 0]'),\n",
       " Text(0.3508771929824561, 0.23333333333333334, 'X[51] <= 0.194\\nentropy = 0.722\\nsamples = 5\\nvalue = [1, 4]'),\n",
       " Text(0.3333333333333333, 0.16666666666666666, 'entropy = 0.0\\nsamples = 4\\nvalue = [0, 4]'),\n",
       " Text(0.3684210526315789, 0.16666666666666666, 'entropy = 0.0\\nsamples = 1\\nvalue = [1, 0]'),\n",
       " Text(0.3684210526315789, 0.3, 'entropy = 0.0\\nsamples = 4\\nvalue = [0, 4]'),\n",
       " Text(0.38596491228070173, 0.36666666666666664, 'entropy = 0.0\\nsamples = 15\\nvalue = [15, 0]'),\n",
       " Text(0.40350877192982454, 0.43333333333333335, 'entropy = 0.0\\nsamples = 4\\nvalue = [0, 4]'),\n",
       " Text(0.45614035087719296, 0.5, 'X[16] <= 2.52\\nentropy = 0.414\\nsamples = 12\\nvalue = [1, 11]'),\n",
       " Text(0.43859649122807015, 0.43333333333333335, 'entropy = 0.0\\nsamples = 11\\nvalue = [0, 11]'),\n",
       " Text(0.47368421052631576, 0.43333333333333335, 'entropy = 0.0\\nsamples = 1\\nvalue = [1, 0]'),\n",
       " Text(0.2675438596491228, 0.7, 'entropy = 0.0\\nsamples = 203\\nvalue = [203, 0]'),\n",
       " Text(0.543859649122807, 0.7666666666666667, 'X[56] <= 27.0\\nentropy = 0.876\\nsamples = 71\\nvalue = [21, 50]'),\n",
       " Text(0.47368421052631576, 0.7, 'X[18] <= 4.08\\nentropy = 0.503\\nsamples = 18\\nvalue = [16, 2]'),\n",
       " Text(0.45614035087719296, 0.6333333333333333, 'entropy = 0.0\\nsamples = 13\\nvalue = [13, 0]'),\n",
       " Text(0.49122807017543857, 0.6333333333333333, 'X[55] <= 1.5\\nentropy = 0.971\\nsamples = 5\\nvalue = [3, 2]'),\n",
       " Text(0.47368421052631576, 0.5666666666666667, 'entropy = 0.0\\nsamples = 2\\nvalue = [2, 0]'),\n",
       " Text(0.5087719298245614, 0.5666666666666667, 'X[55] <= 5.5\\nentropy = 0.918\\nsamples = 3\\nvalue = [1, 2]'),\n",
       " Text(0.49122807017543857, 0.5, 'entropy = 0.0\\nsamples = 2\\nvalue = [0, 2]'),\n",
       " Text(0.5263157894736842, 0.5, 'entropy = 0.0\\nsamples = 1\\nvalue = [1, 0]'),\n",
       " Text(0.6140350877192983, 0.7, 'X[51] <= 4.415\\nentropy = 0.451\\nsamples = 53\\nvalue = [5, 48]'),\n",
       " Text(0.5964912280701754, 0.6333333333333333, 'X[40] <= 1.345\\nentropy = 0.323\\nsamples = 51\\nvalue = [3, 48]'),\n",
       " Text(0.5789473684210527, 0.5666666666666667, 'X[15] <= 0.575\\nentropy = 0.242\\nsamples = 50\\nvalue = [2, 48]'),\n",
       " Text(0.5614035087719298, 0.5, 'entropy = 0.0\\nsamples = 37\\nvalue = [0, 37]'),\n",
       " Text(0.5964912280701754, 0.5, 'X[15] <= 1.55\\nentropy = 0.619\\nsamples = 13\\nvalue = [2, 11]'),\n",
       " Text(0.5789473684210527, 0.43333333333333335, 'X[20] <= 0.84\\nentropy = 0.971\\nsamples = 5\\nvalue = [2, 3]'),\n",
       " Text(0.5614035087719298, 0.36666666666666664, 'entropy = 0.0\\nsamples = 2\\nvalue = [0, 2]'),\n",
       " Text(0.5964912280701754, 0.36666666666666664, 'X[18] <= 1.955\\nentropy = 0.918\\nsamples = 3\\nvalue = [2, 1]'),\n",
       " Text(0.5789473684210527, 0.3, 'entropy = 0.0\\nsamples = 2\\nvalue = [2, 0]'),\n",
       " Text(0.6140350877192983, 0.3, 'entropy = 0.0\\nsamples = 1\\nvalue = [0, 1]'),\n",
       " Text(0.6140350877192983, 0.43333333333333335, 'entropy = 0.0\\nsamples = 8\\nvalue = [0, 8]'),\n",
       " Text(0.6140350877192983, 0.5666666666666667, 'entropy = 0.0\\nsamples = 1\\nvalue = [1, 0]'),\n",
       " Text(0.631578947368421, 0.6333333333333333, 'entropy = 0.0\\nsamples = 2\\nvalue = [2, 0]'),\n",
       " Text(0.6842105263157895, 0.8333333333333334, 'X[26] <= 0.14\\nentropy = 0.564\\nsamples = 68\\nvalue = [9, 59]'),\n",
       " Text(0.6666666666666666, 0.7666666666666667, 'X[52] <= 0.021\\nentropy = 0.28\\nsamples = 62\\nvalue = [3, 59]'),\n",
       " Text(0.6491228070175439, 0.7, 'entropy = 0.0\\nsamples = 52\\nvalue = [0, 52]'),\n",
       " Text(0.6842105263157895, 0.7, 'X[24] <= 0.17\\nentropy = 0.881\\nsamples = 10\\nvalue = [3, 7]'),\n",
       " Text(0.6666666666666666, 0.6333333333333333, 'X[20] <= 3.165\\nentropy = 0.544\\nsamples = 8\\nvalue = [1, 7]'),\n",
       " Text(0.6491228070175439, 0.5666666666666667, 'entropy = 0.0\\nsamples = 7\\nvalue = [0, 7]'),\n",
       " Text(0.6842105263157895, 0.5666666666666667, 'entropy = 0.0\\nsamples = 1\\nvalue = [1, 0]'),\n",
       " Text(0.7017543859649122, 0.6333333333333333, 'entropy = 0.0\\nsamples = 2\\nvalue = [2, 0]'),\n",
       " Text(0.7017543859649122, 0.7666666666666667, 'entropy = 0.0\\nsamples = 6\\nvalue = [6, 0]'),\n",
       " Text(0.8706140350877193, 0.9, 'X[24] <= 0.16\\nentropy = 0.613\\nsamples = 258\\nvalue = [39, 219]'),\n",
       " Text(0.793859649122807, 0.8333333333333334, 'X[55] <= 7.5\\nentropy = 0.39\\nsamples = 235\\nvalue = [18, 217]'),\n",
       " Text(0.7368421052631579, 0.7666666666666667, 'X[6] <= 0.37\\nentropy = 0.684\\nsamples = 11\\nvalue = [9, 2]'),\n",
       " Text(0.7192982456140351, 0.7, 'entropy = 0.0\\nsamples = 9\\nvalue = [9, 0]'),\n",
       " Text(0.7543859649122807, 0.7, 'entropy = 0.0\\nsamples = 2\\nvalue = [0, 2]'),\n",
       " Text(0.8508771929824561, 0.7666666666666667, 'X[20] <= 0.655\\nentropy = 0.243\\nsamples = 224\\nvalue = [9, 215]'),\n",
       " Text(0.7894736842105263, 0.7, 'X[51] <= 0.109\\nentropy = 0.659\\nsamples = 41\\nvalue = [7, 34]'),\n",
       " Text(0.7543859649122807, 0.6333333333333333, 'X[56] <= 259.0\\nentropy = 0.996\\nsamples = 13\\nvalue = [6, 7]'),\n",
       " Text(0.7368421052631579, 0.5666666666666667, 'X[9] <= 0.32\\nentropy = 0.592\\nsamples = 7\\nvalue = [6, 1]'),\n",
       " Text(0.7192982456140351, 0.5, 'entropy = 0.0\\nsamples = 6\\nvalue = [6, 0]'),\n",
       " Text(0.7543859649122807, 0.5, 'entropy = 0.0\\nsamples = 1\\nvalue = [0, 1]'),\n",
       " Text(0.7719298245614035, 0.5666666666666667, 'entropy = 0.0\\nsamples = 6\\nvalue = [0, 6]'),\n",
       " Text(0.8245614035087719, 0.6333333333333333, 'X[15] <= 0.76\\nentropy = 0.222\\nsamples = 28\\nvalue = [1, 27]'),\n",
       " Text(0.8070175438596491, 0.5666666666666667, 'entropy = 0.0\\nsamples = 27\\nvalue = [0, 27]'),\n",
       " Text(0.8421052631578947, 0.5666666666666667, 'entropy = 0.0\\nsamples = 1\\nvalue = [1, 0]'),\n",
       " Text(0.9122807017543859, 0.7, 'X[26] <= 0.21\\nentropy = 0.087\\nsamples = 183\\nvalue = [2, 181]'),\n",
       " Text(0.8947368421052632, 0.6333333333333333, 'X[36] <= 0.57\\nentropy = 0.049\\nsamples = 182\\nvalue = [1, 181]'),\n",
       " Text(0.8771929824561403, 0.5666666666666667, 'entropy = 0.0\\nsamples = 177\\nvalue = [0, 177]'),\n",
       " Text(0.9122807017543859, 0.5666666666666667, 'X[36] <= 0.835\\nentropy = 0.722\\nsamples = 5\\nvalue = [1, 4]'),\n",
       " Text(0.8947368421052632, 0.5, 'entropy = 0.0\\nsamples = 1\\nvalue = [1, 0]'),\n",
       " Text(0.9298245614035088, 0.5, 'entropy = 0.0\\nsamples = 4\\nvalue = [0, 4]'),\n",
       " Text(0.9298245614035088, 0.6333333333333333, 'entropy = 0.0\\nsamples = 1\\nvalue = [1, 0]'),\n",
       " Text(0.9473684210526315, 0.8333333333333334, 'X[0] <= 0.175\\nentropy = 0.426\\nsamples = 23\\nvalue = [21, 2]'),\n",
       " Text(0.9298245614035088, 0.7666666666666667, 'entropy = 0.0\\nsamples = 19\\nvalue = [19, 0]'),\n",
       " Text(0.9649122807017544, 0.7666666666666667, 'X[51] <= 0.13\\nentropy = 1.0\\nsamples = 4\\nvalue = [2, 2]'),\n",
       " Text(0.9473684210526315, 0.7, 'entropy = 0.0\\nsamples = 2\\nvalue = [2, 0]'),\n",
       " Text(0.9824561403508771, 0.7, 'entropy = 0.0\\nsamples = 2\\nvalue = [0, 2]')]"
      ]
     },
     "execution_count": 227,
     "metadata": {},
     "output_type": "execute_result"
    },
    {
     "data": {
      "image/png": "[encoded data removed]",
      "text/plain": [
       "<Figure size 288x288 with 1 Axes>"
      ]
     },
     "metadata": {
      "needs_background": "light"
     },
     "output_type": "display_data"
    }
   ],
   "source": [
    "# To visualize the Decision tree.\n",
    "from sklearn import tree\n",
    "plt.figure(figsize=(4,4))\n",
    "tree.plot_tree(clf,filled=True)"
   ]
  },
  {
   "cell_type": "code",
   "execution_count": 223,
   "id": "e05845a2",
   "metadata": {},
   "outputs": [
    {
     "data": {
      "text/plain": [
       "[Text(0.7055921052631579, 0.9666666666666667, 'X[52] <= 0.056\\nentropy = 0.952\\nsamples = 1000\\nvalue = [628, 372]'),\n",
       " Text(0.5405701754385965, 0.9, 'X[6] <= 0.03\\nentropy = 0.734\\nsamples = 742\\nvalue = [589, 153]'),\n",
       " Text(0.3969298245614035, 0.8333333333333334, 'X[51] <= 0.511\\nentropy = 0.583\\nsamples = 674\\nvalue = [580, 94]'),\n",
       " Text(0.25, 0.7666666666666667, 'X[24] <= 0.04\\nentropy = 0.377\\nsamples = 603\\nvalue = [559, 44]'),\n",
       " Text(0.2324561403508772, 0.7, 'X[55] <= 9.5\\nentropy = 0.5\\nsamples = 400\\nvalue = [356, 44]'),\n",
       " Text(0.11403508771929824, 0.6333333333333333, 'X[4] <= 0.925\\nentropy = 0.186\\nsamples = 247\\nvalue = [240, 7]'),\n",
       " Text(0.07017543859649122, 0.5666666666666667, 'X[54] <= 1.268\\nentropy = 0.074\\nsamples = 224\\nvalue = [222, 2]'),\n",
       " Text(0.05263157894736842, 0.5, 'X[54] <= 1.258\\nentropy = 0.134\\nsamples = 107\\nvalue = [105, 2]'),\n",
       " Text(0.03508771929824561, 0.43333333333333335, 'X[18] <= 4.65\\nentropy = 0.077\\nsamples = 106\\nvalue = [105, 1]'),\n",
       " Text(0.017543859649122806, 0.36666666666666664, 'entropy = 0.0\\nsamples = 92\\nvalue = [92, 0]'),\n",
       " Text(0.05263157894736842, 0.36666666666666664, 'X[18] <= 4.78\\nentropy = 0.371\\nsamples = 14\\nvalue = [13, 1]'),\n",
       " Text(0.03508771929824561, 0.3, 'entropy = 0.0\\nsamples = 1\\nvalue = [0, 1]'),\n",
       " Text(0.07017543859649122, 0.3, 'entropy = 0.0\\nsamples = 13\\nvalue = [13, 0]'),\n",
       " Text(0.07017543859649122, 0.43333333333333335, 'entropy = 0.0\\nsamples = 1\\nvalue = [0, 1]'),\n",
       " Text(0.08771929824561403, 0.5, 'entropy = 0.0\\nsamples = 117\\nvalue = [117, 0]'),\n",
       " Text(0.15789473684210525, 0.5666666666666667, 'X[2] <= 0.505\\nentropy = 0.755\\nsamples = 23\\nvalue = [18, 5]'),\n",
       " Text(0.12280701754385964, 0.5, 'X[17] <= 0.235\\nentropy = 0.31\\nsamples = 18\\nvalue = [17, 1]'),\n",
       " Text(0.10526315789473684, 0.43333333333333335, 'entropy = 0.0\\nsamples = 16\\nvalue = [16, 0]'),\n",
       " Text(0.14035087719298245, 0.43333333333333335, 'X[49] <= 0.288\\nentropy = 1.0\\nsamples = 2\\nvalue = [1, 1]'),\n",
       " Text(0.12280701754385964, 0.36666666666666664, 'entropy = 0.0\\nsamples = 1\\nvalue = [1, 0]'),\n",
       " Text(0.15789473684210525, 0.36666666666666664, 'entropy = 0.0\\nsamples = 1\\nvalue = [0, 1]'),\n",
       " Text(0.19298245614035087, 0.5, 'X[41] <= 2.04\\nentropy = 0.722\\nsamples = 5\\nvalue = [1, 4]'),\n",
       " Text(0.17543859649122806, 0.43333333333333335, 'entropy = 0.0\\nsamples = 4\\nvalue = [0, 4]'),\n",
       " Text(0.21052631578947367, 0.43333333333333335, 'entropy = 0.0\\nsamples = 1\\nvalue = [1, 0]'),\n",
       " Text(0.3508771929824561, 0.6333333333333333, 'X[4] <= 0.055\\nentropy = 0.798\\nsamples = 153\\nvalue = [116, 37]'),\n",
       " Text(0.2807017543859649, 0.5666666666666667, 'X[55] <= 39.0\\nentropy = 0.56\\nsamples = 107\\nvalue = [93, 14]'),\n",
       " Text(0.2631578947368421, 0.5, 'X[23] <= 0.585\\nentropy = 0.711\\nsamples = 72\\nvalue = [58, 14]'),\n",
       " Text(0.24561403508771928, 0.43333333333333335, 'X[48] <= 0.086\\nentropy = 0.633\\nsamples = 69\\nvalue = [58, 11]'),\n",
       " Text(0.21052631578947367, 0.36666666666666664, 'X[55] <= 33.5\\nentropy = 0.503\\nsamples = 63\\nvalue = [56, 7]'),\n",
       " Text(0.19298245614035087, 0.3, 'X[56] <= 48.5\\nentropy = 0.409\\nsamples = 61\\nvalue = [56, 5]'),\n",
       " Text(0.17543859649122806, 0.23333333333333334, 'X[0] <= 0.265\\nentropy = 0.755\\nsamples = 23\\nvalue = [18, 5]'),\n",
       " Text(0.15789473684210525, 0.16666666666666666, 'X[18] <= 3.735\\nentropy = 0.592\\nsamples = 21\\nvalue = [18, 3]'),\n",
       " Text(0.14035087719298245, 0.1, 'entropy = 0.0\\nsamples = 17\\nvalue = [17, 0]'),\n",
       " Text(0.17543859649122806, 0.1, 'X[55] <= 18.5\\nentropy = 0.811\\nsamples = 4\\nvalue = [1, 3]'),\n",
       " Text(0.15789473684210525, 0.03333333333333333, 'entropy = 0.0\\nsamples = 3\\nvalue = [0, 3]'),\n",
       " Text(0.19298245614035087, 0.03333333333333333, 'entropy = 0.0\\nsamples = 1\\nvalue = [1, 0]'),\n",
       " Text(0.19298245614035087, 0.16666666666666666, 'entropy = 0.0\\nsamples = 2\\nvalue = [0, 2]'),\n",
       " Text(0.21052631578947367, 0.23333333333333334, 'entropy = 0.0\\nsamples = 38\\nvalue = [38, 0]'),\n",
       " Text(0.22807017543859648, 0.3, 'entropy = 0.0\\nsamples = 2\\nvalue = [0, 2]'),\n",
       " Text(0.2807017543859649, 0.36666666666666664, 'X[55] <= 15.5\\nentropy = 0.918\\nsamples = 6\\nvalue = [2, 4]'),\n",
       " Text(0.2631578947368421, 0.3, 'entropy = 0.0\\nsamples = 2\\nvalue = [2, 0]'),\n",
       " Text(0.2982456140350877, 0.3, 'entropy = 0.0\\nsamples = 4\\nvalue = [0, 4]'),\n",
       " Text(0.2807017543859649, 0.43333333333333335, 'entropy = 0.0\\nsamples = 3\\nvalue = [0, 3]'),\n",
       " Text(0.2982456140350877, 0.5, 'entropy = 0.0\\nsamples = 35\\nvalue = [35, 0]'),\n",
       " Text(0.42105263157894735, 0.5666666666666667, 'X[54] <= 3.065\\nentropy = 1.0\\nsamples = 46\\nvalue = [23, 23]'),\n",
       " Text(0.38596491228070173, 0.5, 'X[29] <= 0.055\\nentropy = 0.937\\nsamples = 34\\nvalue = [22, 12]'),\n",
       " Text(0.3684210526315789, 0.43333333333333335, 'X[49] <= 0.084\\nentropy = 0.837\\nsamples = 30\\nvalue = [22, 8]'),\n",
       " Text(0.3508771929824561, 0.36666666666666664, 'X[16] <= 0.075\\nentropy = 0.997\\nsamples = 15\\nvalue = [7, 8]'),\n",
       " Text(0.3333333333333333, 0.3, 'X[54] <= 1.825\\nentropy = 0.946\\nsamples = 11\\nvalue = [7, 4]'),\n",
       " Text(0.3157894736842105, 0.23333333333333334, 'entropy = 0.0\\nsamples = 6\\nvalue = [6, 0]'),\n",
       " Text(0.3508771929824561, 0.23333333333333334, 'X[51] <= 0.194\\nentropy = 0.722\\nsamples = 5\\nvalue = [1, 4]'),\n",
       " Text(0.3333333333333333, 0.16666666666666666, 'entropy = 0.0\\nsamples = 4\\nvalue = [0, 4]'),\n",
       " Text(0.3684210526315789, 0.16666666666666666, 'entropy = 0.0\\nsamples = 1\\nvalue = [1, 0]'),\n",
       " Text(0.3684210526315789, 0.3, 'entropy = 0.0\\nsamples = 4\\nvalue = [0, 4]'),\n",
       " Text(0.38596491228070173, 0.36666666666666664, 'entropy = 0.0\\nsamples = 15\\nvalue = [15, 0]'),\n",
       " Text(0.40350877192982454, 0.43333333333333335, 'entropy = 0.0\\nsamples = 4\\nvalue = [0, 4]'),\n",
       " Text(0.45614035087719296, 0.5, 'X[16] <= 2.52\\nentropy = 0.414\\nsamples = 12\\nvalue = [1, 11]'),\n",
       " Text(0.43859649122807015, 0.43333333333333335, 'entropy = 0.0\\nsamples = 11\\nvalue = [0, 11]'),\n",
       " Text(0.47368421052631576, 0.43333333333333335, 'entropy = 0.0\\nsamples = 1\\nvalue = [1, 0]'),\n",
       " Text(0.2675438596491228, 0.7, 'entropy = 0.0\\nsamples = 203\\nvalue = [203, 0]'),\n",
       " Text(0.543859649122807, 0.7666666666666667, 'X[56] <= 27.0\\nentropy = 0.876\\nsamples = 71\\nvalue = [21, 50]'),\n",
       " Text(0.47368421052631576, 0.7, 'X[18] <= 4.08\\nentropy = 0.503\\nsamples = 18\\nvalue = [16, 2]'),\n",
       " Text(0.45614035087719296, 0.6333333333333333, 'entropy = 0.0\\nsamples = 13\\nvalue = [13, 0]'),\n",
       " Text(0.49122807017543857, 0.6333333333333333, 'X[55] <= 1.5\\nentropy = 0.971\\nsamples = 5\\nvalue = [3, 2]'),\n",
       " Text(0.47368421052631576, 0.5666666666666667, 'entropy = 0.0\\nsamples = 2\\nvalue = [2, 0]'),\n",
       " Text(0.5087719298245614, 0.5666666666666667, 'X[55] <= 5.5\\nentropy = 0.918\\nsamples = 3\\nvalue = [1, 2]'),\n",
       " Text(0.49122807017543857, 0.5, 'entropy = 0.0\\nsamples = 2\\nvalue = [0, 2]'),\n",
       " Text(0.5263157894736842, 0.5, 'entropy = 0.0\\nsamples = 1\\nvalue = [1, 0]'),\n",
       " Text(0.6140350877192983, 0.7, 'X[51] <= 4.415\\nentropy = 0.451\\nsamples = 53\\nvalue = [5, 48]'),\n",
       " Text(0.5964912280701754, 0.6333333333333333, 'X[40] <= 1.345\\nentropy = 0.323\\nsamples = 51\\nvalue = [3, 48]'),\n",
       " Text(0.5789473684210527, 0.5666666666666667, 'X[15] <= 0.575\\nentropy = 0.242\\nsamples = 50\\nvalue = [2, 48]'),\n",
       " Text(0.5614035087719298, 0.5, 'entropy = 0.0\\nsamples = 37\\nvalue = [0, 37]'),\n",
       " Text(0.5964912280701754, 0.5, 'X[15] <= 1.55\\nentropy = 0.619\\nsamples = 13\\nvalue = [2, 11]'),\n",
       " Text(0.5789473684210527, 0.43333333333333335, 'X[20] <= 0.84\\nentropy = 0.971\\nsamples = 5\\nvalue = [2, 3]'),\n",
       " Text(0.5614035087719298, 0.36666666666666664, 'entropy = 0.0\\nsamples = 2\\nvalue = [0, 2]'),\n",
       " Text(0.5964912280701754, 0.36666666666666664, 'X[18] <= 1.955\\nentropy = 0.918\\nsamples = 3\\nvalue = [2, 1]'),\n",
       " Text(0.5789473684210527, 0.3, 'entropy = 0.0\\nsamples = 2\\nvalue = [2, 0]'),\n",
       " Text(0.6140350877192983, 0.3, 'entropy = 0.0\\nsamples = 1\\nvalue = [0, 1]'),\n",
       " Text(0.6140350877192983, 0.43333333333333335, 'entropy = 0.0\\nsamples = 8\\nvalue = [0, 8]'),\n",
       " Text(0.6140350877192983, 0.5666666666666667, 'entropy = 0.0\\nsamples = 1\\nvalue = [1, 0]'),\n",
       " Text(0.631578947368421, 0.6333333333333333, 'entropy = 0.0\\nsamples = 2\\nvalue = [2, 0]'),\n",
       " Text(0.6842105263157895, 0.8333333333333334, 'X[26] <= 0.14\\nentropy = 0.564\\nsamples = 68\\nvalue = [9, 59]'),\n",
       " Text(0.6666666666666666, 0.7666666666666667, 'X[52] <= 0.021\\nentropy = 0.28\\nsamples = 62\\nvalue = [3, 59]'),\n",
       " Text(0.6491228070175439, 0.7, 'entropy = 0.0\\nsamples = 52\\nvalue = [0, 52]'),\n",
       " Text(0.6842105263157895, 0.7, 'X[24] <= 0.17\\nentropy = 0.881\\nsamples = 10\\nvalue = [3, 7]'),\n",
       " Text(0.6666666666666666, 0.6333333333333333, 'X[20] <= 3.165\\nentropy = 0.544\\nsamples = 8\\nvalue = [1, 7]'),\n",
       " Text(0.6491228070175439, 0.5666666666666667, 'entropy = 0.0\\nsamples = 7\\nvalue = [0, 7]'),\n",
       " Text(0.6842105263157895, 0.5666666666666667, 'entropy = 0.0\\nsamples = 1\\nvalue = [1, 0]'),\n",
       " Text(0.7017543859649122, 0.6333333333333333, 'entropy = 0.0\\nsamples = 2\\nvalue = [2, 0]'),\n",
       " Text(0.7017543859649122, 0.7666666666666667, 'entropy = 0.0\\nsamples = 6\\nvalue = [6, 0]'),\n",
       " Text(0.8706140350877193, 0.9, 'X[24] <= 0.16\\nentropy = 0.613\\nsamples = 258\\nvalue = [39, 219]'),\n",
       " Text(0.793859649122807, 0.8333333333333334, 'X[55] <= 7.5\\nentropy = 0.39\\nsamples = 235\\nvalue = [18, 217]'),\n",
       " Text(0.7368421052631579, 0.7666666666666667, 'X[6] <= 0.37\\nentropy = 0.684\\nsamples = 11\\nvalue = [9, 2]'),\n",
       " Text(0.7192982456140351, 0.7, 'entropy = 0.0\\nsamples = 9\\nvalue = [9, 0]'),\n",
       " Text(0.7543859649122807, 0.7, 'entropy = 0.0\\nsamples = 2\\nvalue = [0, 2]'),\n",
       " Text(0.8508771929824561, 0.7666666666666667, 'X[20] <= 0.655\\nentropy = 0.243\\nsamples = 224\\nvalue = [9, 215]'),\n",
       " Text(0.7894736842105263, 0.7, 'X[51] <= 0.109\\nentropy = 0.659\\nsamples = 41\\nvalue = [7, 34]'),\n",
       " Text(0.7543859649122807, 0.6333333333333333, 'X[56] <= 259.0\\nentropy = 0.996\\nsamples = 13\\nvalue = [6, 7]'),\n",
       " Text(0.7368421052631579, 0.5666666666666667, 'X[9] <= 0.32\\nentropy = 0.592\\nsamples = 7\\nvalue = [6, 1]'),\n",
       " Text(0.7192982456140351, 0.5, 'entropy = 0.0\\nsamples = 6\\nvalue = [6, 0]'),\n",
       " Text(0.7543859649122807, 0.5, 'entropy = 0.0\\nsamples = 1\\nvalue = [0, 1]'),\n",
       " Text(0.7719298245614035, 0.5666666666666667, 'entropy = 0.0\\nsamples = 6\\nvalue = [0, 6]'),\n",
       " Text(0.8245614035087719, 0.6333333333333333, 'X[15] <= 0.76\\nentropy = 0.222\\nsamples = 28\\nvalue = [1, 27]'),\n",
       " Text(0.8070175438596491, 0.5666666666666667, 'entropy = 0.0\\nsamples = 27\\nvalue = [0, 27]'),\n",
       " Text(0.8421052631578947, 0.5666666666666667, 'entropy = 0.0\\nsamples = 1\\nvalue = [1, 0]'),\n",
       " Text(0.9122807017543859, 0.7, 'X[26] <= 0.21\\nentropy = 0.087\\nsamples = 183\\nvalue = [2, 181]'),\n",
       " Text(0.8947368421052632, 0.6333333333333333, 'X[36] <= 0.57\\nentropy = 0.049\\nsamples = 182\\nvalue = [1, 181]'),\n",
       " Text(0.8771929824561403, 0.5666666666666667, 'entropy = 0.0\\nsamples = 177\\nvalue = [0, 177]'),\n",
       " Text(0.9122807017543859, 0.5666666666666667, 'X[36] <= 0.835\\nentropy = 0.722\\nsamples = 5\\nvalue = [1, 4]'),\n",
       " Text(0.8947368421052632, 0.5, 'entropy = 0.0\\nsamples = 1\\nvalue = [1, 0]'),\n",
       " Text(0.9298245614035088, 0.5, 'entropy = 0.0\\nsamples = 4\\nvalue = [0, 4]'),\n",
       " Text(0.9298245614035088, 0.6333333333333333, 'entropy = 0.0\\nsamples = 1\\nvalue = [1, 0]'),\n",
       " Text(0.9473684210526315, 0.8333333333333334, 'X[0] <= 0.175\\nentropy = 0.426\\nsamples = 23\\nvalue = [21, 2]'),\n",
       " Text(0.9298245614035088, 0.7666666666666667, 'entropy = 0.0\\nsamples = 19\\nvalue = [19, 0]'),\n",
       " Text(0.9649122807017544, 0.7666666666666667, 'X[51] <= 0.13\\nentropy = 1.0\\nsamples = 4\\nvalue = [2, 2]'),\n",
       " Text(0.9473684210526315, 0.7, 'entropy = 0.0\\nsamples = 2\\nvalue = [2, 0]'),\n",
       " Text(0.9824561403508771, 0.7, 'entropy = 0.0\\nsamples = 2\\nvalue = [0, 2]')]"
      ]
     },
     "execution_count": 223,
     "metadata": {},
     "output_type": "execute_result"
    },
    {
     "data": {
      "image/png": "[encoded data removed]",
      "text/plain": [
       "<Figure size 432x288 with 1 Axes>"
      ]
     },
     "metadata": {
      "needs_background": "light"
     },
     "output_type": "display_data"
    }
   ],
   "source": [
    "tree.plot_tree(clf)"
   ]
  },
  {
   "cell_type": "markdown",
   "id": "cae0fc91",
   "metadata": {},
   "source": [
    "# Implementing Decision with custom parameters"
   ]
  },
  {
   "cell_type": "code",
   "execution_count": 230,
   "id": "e5fc031b",
   "metadata": {},
   "outputs": [],
   "source": [
    "x_train,x_test,y_train,y_test = train_test_split(x,y,train_size=1000 , random_state= 44)"
   ]
  },
  {
   "cell_type": "code",
   "execution_count": 231,
   "id": "da9beec4",
   "metadata": {},
   "outputs": [
    {
     "name": "stdout",
     "output_type": "stream",
     "text": [
      "Accuracy Score is: 0.874479311302416\n",
      "              precision    recall  f1-score   support\n",
      "\n",
      "           0       0.87      0.93      0.90      2160\n",
      "           1       0.88      0.80      0.84      1441\n",
      "\n",
      "    accuracy                           0.87      3601\n",
      "   macro avg       0.88      0.86      0.87      3601\n",
      "weighted avg       0.87      0.87      0.87      3601\n",
      "\n",
      "Accuracy is: 0.874479311302416\n",
      "Per_class_acc_true_pos is: 0.7980569049271339\n",
      "Per_class_acc_true_neg is: 0.9254629629629629\n"
     ]
    },
    {
     "name": "stderr",
     "output_type": "stream",
     "text": [
      "/Users/rajasekharreddy/opt/anaconda3/lib/python3.9/site-packages/sklearn/utils/validation.py:1688: FutureWarning: Feature names only support names that are all strings. Got feature names with dtypes: ['int', 'str']. An error will be raised in 1.2.\n",
      "  warnings.warn(\n",
      "/Users/rajasekharreddy/opt/anaconda3/lib/python3.9/site-packages/sklearn/utils/validation.py:1688: FutureWarning: Feature names only support names that are all strings. Got feature names with dtypes: ['int', 'str']. An error will be raised in 1.2.\n",
      "  warnings.warn(\n"
     ]
    }
   ],
   "source": [
    "# passing max_features=\"sqrt\"\n",
    "clf = DecisionTreeClassifier(criterion=\"entropy\",splitter=\"best\",max_depth=20,min_samples_split=7,\n",
    "                             max_features=\"sqrt\",random_state=10)\n",
    "clf.fit(x_train,y_train)\n",
    "y_hat=clf.predict(x_test)\n",
    "from sklearn.metrics import accuracy_score\n",
    "print(\"Accuracy Score is:\",accuracy_score(y_test,y_hat))\n",
    "print(classification_report(y_test,y_hat))\n",
    "# Confusion Matrix\n",
    "conf_mat = confusion_matrix(y_test,y_hat)\n",
    "conf_mat\n",
    "true_positive = conf_mat[1][1]\n",
    "false_negative = conf_mat[1][0]\n",
    "false_positive= conf_mat[0][1] \n",
    "true_negative = conf_mat[0][0]\n",
    "# Classification Accuracy.\n",
    "Accuracy = (true_positive + true_negative) / (true_positive +false_positive + false_negative + true_negative)\n",
    "print(\"Accuracy is:\",Accuracy)\n",
    "# Per class Accuracy.\n",
    "Per_class_acc_true_pos = true_positive/(true_positive+false_negative)\n",
    "print(\"Per_class_acc_true_pos is:\",Per_class_acc_true_pos)\n",
    "# Per class Accuracy.\n",
    "Per_class_acc_true_neg = true_negative/(false_positive+true_negative)\n",
    "print(\"Per_class_acc_true_neg is:\",Per_class_acc_true_neg)"
   ]
  },
  {
   "cell_type": "code",
   "execution_count": 232,
   "id": "0fe3c27d",
   "metadata": {},
   "outputs": [
    {
     "name": "stdout",
     "output_type": "stream",
     "text": [
      "Precision is: 0.8771929824561403\n",
      "Recall is: 0.7980569049271339\n",
      "F1_Score is: 0.8357558139534883\n",
      "[0.         0.07453704 1.        ]\n",
      "[0.        0.7980569 1.       ]\n"
     ]
    },
    {
     "data": {
      "image/png": "[encoded data removed]",
      "text/plain": [
       "<Figure size 432x288 with 1 Axes>"
      ]
     },
     "metadata": {
      "needs_background": "light"
     },
     "output_type": "display_data"
    }
   ],
   "source": [
    "# Precison\n",
    "Precision = true_positive/(true_positive+false_positive)\n",
    "print(\"Precision is:\",Precision)\n",
    "# Recall\n",
    "Recall = true_positive/(true_positive+false_negative)\n",
    "print(\"Recall is:\",Recall)\n",
    "# F1 Score\n",
    "F1_Score = 2*(Recall * Precision) / (Recall + Precision)\n",
    "print(\"F1_Score is:\",F1_Score)\n",
    "# Area Under Curve\n",
    "auc = roc_auc_score(y_test, y_hat)\n",
    "auc\n",
    "fpr, tpr, thresholds = roc_curve(y_test, y_hat)\n",
    "print(fpr)\n",
    "print(tpr)\n",
    "thresholds\n",
    "plt.plot(fpr, tpr, color='orange', label='ROC')\n",
    "plt.plot([0, 1], [0, 1], color='darkblue', linestyle='--',label='ROC curve (area = %0.2f)' % auc)\n",
    "plt.xlabel('False Positive Rate')\n",
    "plt.ylabel('True Positive Rate')\n",
    "plt.title('Receiver Operating Characteristic (ROC) Curve')\n",
    "plt.legend()\n",
    "plt.show()\n"
   ]
  },
  {
   "cell_type": "code",
   "execution_count": null,
   "id": "b8a6ce0f",
   "metadata": {},
   "outputs": [],
   "source": []
  },
  {
   "cell_type": "code",
   "execution_count": null,
   "id": "a16b5c77",
   "metadata": {},
   "outputs": [],
   "source": []
  },
  {
   "cell_type": "code",
   "execution_count": null,
   "id": "eff71dd1",
   "metadata": {},
   "outputs": [],
   "source": []
  },
  {
   "cell_type": "code",
   "execution_count": null,
   "id": "420f9bec",
   "metadata": {},
   "outputs": [],
   "source": []
  },
  {
   "cell_type": "code",
   "execution_count": null,
   "id": "8e5f2ac1",
   "metadata": {},
   "outputs": [],
   "source": []
  },
  {
   "cell_type": "code",
   "execution_count": null,
   "id": "900f8168",
   "metadata": {},
   "outputs": [],
   "source": []
  },
  {
   "cell_type": "code",
   "execution_count": null,
   "id": "2460a36a",
   "metadata": {},
   "outputs": [],
   "source": []
  },
  {
   "cell_type": "code",
   "execution_count": null,
   "id": "1bc874c0",
   "metadata": {},
   "outputs": [],
   "source": []
  },
  {
   "cell_type": "code",
   "execution_count": null,
   "id": "457f7f51",
   "metadata": {},
   "outputs": [],
   "source": []
  },
  {
   "cell_type": "code",
   "execution_count": null,
   "id": "6f3c963a",
   "metadata": {},
   "outputs": [],
   "source": []
  },
  {
   "cell_type": "code",
   "execution_count": null,
   "id": "5d220b0d",
   "metadata": {},
   "outputs": [],
   "source": []
  },
  {
   "cell_type": "code",
   "execution_count": null,
   "id": "d30a0726",
   "metadata": {},
   "outputs": [],
   "source": []
  },
  {
   "cell_type": "code",
   "execution_count": null,
   "id": "37a05eb6",
   "metadata": {},
   "outputs": [],
   "source": []
  },
  {
   "cell_type": "markdown",
   "id": "913282d4",
   "metadata": {},
   "source": [
    "# Random Forest Classifier Implementation."
   ]
  },
  {
   "cell_type": "code",
   "execution_count": 268,
   "id": "9c648417",
   "metadata": {},
   "outputs": [
    {
     "name": "stderr",
     "output_type": "stream",
     "text": [
      "/Users/rajasekharreddy/opt/anaconda3/lib/python3.9/site-packages/sklearn/utils/validation.py:1688: FutureWarning: Feature names only support names that are all strings. Got feature names with dtypes: ['int', 'str']. An error will be raised in 1.2.\n",
      "  warnings.warn(\n",
      "/Users/rajasekharreddy/opt/anaconda3/lib/python3.9/site-packages/sklearn/utils/validation.py:1688: FutureWarning: Feature names only support names that are all strings. Got feature names with dtypes: ['int', 'str']. An error will be raised in 1.2.\n",
      "  warnings.warn(\n"
     ]
    },
    {
     "name": "stdout",
     "output_type": "stream",
     "text": [
      "[[2102   58]\n",
      " [ 188 1253]]\n",
      "              precision    recall  f1-score   support\n",
      "\n",
      "           0       0.92      0.97      0.94      2160\n",
      "           1       0.96      0.87      0.91      1441\n",
      "\n",
      "    accuracy                           0.93      3601\n",
      "   macro avg       0.94      0.92      0.93      3601\n",
      "weighted avg       0.93      0.93      0.93      3601\n",
      "\n",
      "Accuracy Score is: 0.9316856428769786\n",
      "Per_Class_Accuracy_True_Positive: 0.8695350451075642\n",
      "Per_Class_Accuracy_True_Negative: 0.9731481481481481\n",
      "Precision is: 0.9557589626239512\n",
      "Recall is: 0.8695350451075642\n",
      "F1 Score is: 0.9106104651162792\n",
      "[0.         0.02685185 1.        ]\n",
      "[0.         0.86953505 1.        ]\n"
     ]
    },
    {
     "data": {
      "image/png": "[encoded data removed]",
      "text/plain": [
       "<Figure size 432x288 with 1 Axes>"
      ]
     },
     "metadata": {
      "needs_background": "light"
     },
     "output_type": "display_data"
    }
   ],
   "source": [
    "# Implemeting the sklearn with default n_estimators and number of features to consider.while building a \n",
    "# RandomForestClassifier.\n",
    "from sklearn.ensemble import RandomForestClassifier\n",
    "random_forest_classifier = RandomForestClassifier(random_state=555,max_features=\"sqrt\")\n",
    "random_forest_classifier.fit(x_train, y_train)\n",
    "y_pred = random_forest_classifier.predict(x_test)\n",
    "from sklearn.metrics import classification_report, confusion_matrix, accuracy_score\n",
    "\n",
    "# Classification Accuracy and Accuration Report.\n",
    "print(confusion_matrix(y_test,y_pred))\n",
    "print(classification_report(y_test,y_pred))\n",
    "\n",
    "conf_mat=confusion_matrix(y_test,y_pred)\n",
    "true_positive = conf_mat[1][1]\n",
    "false_negative = conf_mat[1][0]\n",
    "false_positive= conf_mat[0][1] \n",
    "true_negative = conf_mat[0][0]\n",
    "\n",
    "print(\"Accuracy Score is:\",accuracy_score(y_test, y_pred))\n",
    "# Per class Accuracy for true positive.\n",
    "Per_class_acc_true_pos = true_positive/(true_positive+false_negative)\n",
    "print(\"Per_Class_Accuracy_True_Positive:\",Per_class_acc_true_pos)\n",
    "\n",
    "# Per class Accuracy for true negative.\n",
    "Per_class_acc_true_neg = true_negative/(false_positive+true_negative)\n",
    "print(\"Per_Class_Accuracy_True_Negative:\",Per_class_acc_true_neg)\n",
    "\n",
    "# Precison\n",
    "Precision = true_positive/(true_positive+false_positive)\n",
    "print(\"Precision is:\",Precision)\n",
    "\n",
    "# Recall\n",
    "Recall = true_positive/(true_positive+false_negative)\n",
    "print(\"Recall is:\",Recall)\n",
    "\n",
    "# F1 Score\n",
    "F1_Score = 2*(Recall * Precision) / (Recall + Precision)\n",
    "print(\"F1 Score is:\",F1_Score)\n",
    "\n",
    "# Area Under Curve\n",
    "auc = roc_auc_score(y_test, y_pred)\n",
    "auc\n",
    "\n",
    "fpr, tpr, thresholds = roc_curve(y_test, y_pred)\n",
    "print(fpr)\n",
    "print(tpr)\n",
    "thresholds\n",
    "\n",
    "plt.plot(fpr, tpr, color='orange', label='ROC')\n",
    "plt.plot([0, 1], [0, 1], color='darkblue', linestyle='--',label='ROC curve (area = %0.2f)' % auc)\n",
    "plt.xlabel('False Positive Rate')\n",
    "plt.ylabel('True Positive Rate')\n",
    "plt.title('Receiver Operating Characteristic (ROC) Curve')\n",
    "plt.legend()\n",
    "plt.show()\n",
    "\n"
   ]
  },
  {
   "cell_type": "code",
   "execution_count": 237,
   "id": "c75401fe",
   "metadata": {},
   "outputs": [
    {
     "name": "stdout",
     "output_type": "stream",
     "text": [
      "[[2110   50]\n",
      " [ 255 1186]]\n",
      "              precision    recall  f1-score   support\n",
      "\n",
      "           0       0.89      0.98      0.93      2160\n",
      "           1       0.96      0.82      0.89      1441\n",
      "\n",
      "    accuracy                           0.92      3601\n",
      "   macro avg       0.93      0.90      0.91      3601\n",
      "weighted avg       0.92      0.92      0.91      3601\n",
      "\n",
      "Accuracy Score is: 0.9153013051930019\n",
      "Per_Class_Accuracy_True_Positive: 0.8230395558639834\n",
      "Per_Class_Accuracy_True_Negative: 0.9768518518518519\n",
      "[0.         0.02314815 1.        ]\n",
      "[0.         0.82303956 1.        ]\n"
     ]
    },
    {
     "name": "stderr",
     "output_type": "stream",
     "text": [
      "/Users/rajasekharreddy/opt/anaconda3/lib/python3.9/site-packages/sklearn/utils/validation.py:1688: FutureWarning: Feature names only support names that are all strings. Got feature names with dtypes: ['int', 'str']. An error will be raised in 1.2.\n",
      "  warnings.warn(\n",
      "/Users/rajasekharreddy/opt/anaconda3/lib/python3.9/site-packages/sklearn/utils/validation.py:1688: FutureWarning: Feature names only support names that are all strings. Got feature names with dtypes: ['int', 'str']. An error will be raised in 1.2.\n",
      "  warnings.warn(\n"
     ]
    },
    {
     "data": {
      "image/png": "[encoded data removed]",
      "text/plain": [
       "<Figure size 432x288 with 1 Axes>"
      ]
     },
     "metadata": {
      "needs_background": "light"
     },
     "output_type": "display_data"
    }
   ],
   "source": [
    "# Buiding a Decision tree with n_estimators=10, max_features = \"sqrt\"\n",
    "from sklearn.ensemble import RandomForestClassifier\n",
    "classifier = RandomForestClassifier(n_estimators=10,random_state=555,max_features=\"sqrt\")\n",
    "classifier.fit(x_train, y_train)\n",
    "y_pred = classifier.predict(x_test)\n",
    "\n",
    "from sklearn.metrics import classification_report, confusion_matrix, accuracy_score\n",
    "\n",
    "print(confusion_matrix(y_test,y_pred))\n",
    "print(classification_report(y_test,y_pred))\n",
    "\n",
    "conf_mat=confusion_matrix(y_test,y_pred)\n",
    "true_positive = conf_mat[1][1]\n",
    "false_negative = conf_mat[1][0]\n",
    "false_positive= conf_mat[0][1] \n",
    "true_negative = conf_mat[0][0]\n",
    "\n",
    "print(\"Accuracy Score is:\",accuracy_score(y_test, y_pred))\n",
    "# Per class Accuracy for true positive.\n",
    "Per_class_acc_true_pos = true_positive/(true_positive+false_negative)\n",
    "print(\"Per_Class_Accuracy_True_Positive:\",Per_class_acc_true_pos)\n",
    "# Per class Accuracy for true negative.\n",
    "Per_class_acc_true_neg = true_negative/(false_positive+true_negative)\n",
    "print(\"Per_Class_Accuracy_True_Negative:\",Per_class_acc_true_neg)\n",
    "\n",
    "# Area Under Curve\n",
    "auc = roc_auc_score(y_test, y_pred)\n",
    "auc\n",
    "fpr, tpr, thresholds = roc_curve(y_test, y_pred)\n",
    "print(fpr)\n",
    "print(tpr)\n",
    "thresholds\n",
    "plt.plot(fpr, tpr, color='orange', label='ROC')\n",
    "plt.plot([0, 1], [0, 1], color='darkblue', linestyle='--',label='ROC curve (area = %0.2f)' % auc)\n",
    "plt.xlabel('False Positive Rate')\n",
    "plt.ylabel('True Positive Rate')\n",
    "plt.title('Receiver Operating Characteristic (ROC) Curve')\n",
    "plt.legend()\n",
    "plt.show()"
   ]
  },
  {
   "cell_type": "code",
   "execution_count": 245,
   "id": "b842f3d3",
   "metadata": {},
   "outputs": [
    {
     "name": "stdout",
     "output_type": "stream",
     "text": [
      "[[2098   62]\n",
      " [ 212 1229]]\n",
      "              precision    recall  f1-score   support\n",
      "\n",
      "           0       0.91      0.97      0.94      2160\n",
      "           1       0.95      0.85      0.90      1441\n",
      "\n",
      "    accuracy                           0.92      3601\n",
      "   macro avg       0.93      0.91      0.92      3601\n",
      "weighted avg       0.93      0.92      0.92      3601\n",
      "\n",
      "0.9239100249930575\n",
      "Accuracy Score is: 0.9239100249930575\n",
      "Per_Class_Accuracy_True_Positive: 0.8528799444829979\n",
      "Per_Class_Accuracy_True_Negative: 0.9712962962962963\n",
      "[0.        0.0287037 1.       ]\n",
      "[0.         0.85287994 1.        ]\n"
     ]
    },
    {
     "name": "stderr",
     "output_type": "stream",
     "text": [
      "/Users/rajasekharreddy/opt/anaconda3/lib/python3.9/site-packages/sklearn/utils/validation.py:1688: FutureWarning: Feature names only support names that are all strings. Got feature names with dtypes: ['int', 'str']. An error will be raised in 1.2.\n",
      "  warnings.warn(\n",
      "/Users/rajasekharreddy/opt/anaconda3/lib/python3.9/site-packages/sklearn/utils/validation.py:1688: FutureWarning: Feature names only support names that are all strings. Got feature names with dtypes: ['int', 'str']. An error will be raised in 1.2.\n",
      "  warnings.warn(\n"
     ]
    },
    {
     "data": {
      "image/png": "[encoded data removed]",
      "text/plain": [
       "<Figure size 432x288 with 1 Axes>"
      ]
     },
     "metadata": {
      "needs_background": "light"
     },
     "output_type": "display_data"
    }
   ],
   "source": [
    "# Buiding a Decision tree with n_estimators=20, max_features = \"sqrt\"\n",
    "from sklearn.ensemble import RandomForestClassifier\n",
    "classifier = RandomForestClassifier(n_estimators=20, random_state=555,max_features=\"sqrt\")\n",
    "classifier.fit(x_train, y_train)\n",
    "y_pred = classifier.predict(x_test)\n",
    "from sklearn.metrics import classification_report, confusion_matrix, accuracy_score\n",
    "print(confusion_matrix(y_test,y_pred))\n",
    "print(classification_report(y_test,y_pred))\n",
    "print(accuracy_score(y_test, y_pred))\n",
    "\n",
    "conf_mat=confusion_matrix(y_test,y_pred)\n",
    "true_positive = conf_mat[1][1]\n",
    "false_negative = conf_mat[1][0]\n",
    "false_positive= conf_mat[0][1] \n",
    "true_negative = conf_mat[0][0]\n",
    "print(\"Accuracy Score is:\",accuracy_score(y_test, y_pred))\n",
    "\n",
    "# Per class Accuracy for true positive.\n",
    "Per_class_acc_true_pos = true_positive/(true_positive+false_negative)\n",
    "print(\"Per_Class_Accuracy_True_Positive:\",Per_class_acc_true_pos)\n",
    "\n",
    "# Per class Accuracy for true negative.\n",
    "Per_class_acc_true_neg = true_negative/(false_positive+true_negative)\n",
    "print(\"Per_Class_Accuracy_True_Negative:\",Per_class_acc_true_neg)\n",
    "\n",
    "# Area Under Curve\n",
    "auc = roc_auc_score(y_test, y_pred)\n",
    "auc\n",
    "\n",
    "fpr, tpr, thresholds = roc_curve(y_test, y_pred)\n",
    "print(fpr)\n",
    "print(tpr)\n",
    "thresholds\n",
    "\n",
    "plt.plot(fpr, tpr, color='orange', label='ROC')\n",
    "plt.plot([0, 1], [0, 1], color='darkblue', linestyle='--',label='ROC curve (area = %0.2f)' % auc)\n",
    "plt.xlabel('False Positive Rate')\n",
    "plt.ylabel('True Positive Rate')\n",
    "plt.title('Receiver Operating Characteristic (ROC) Curve')\n",
    "plt.legend()\n",
    "plt.show()"
   ]
  },
  {
   "cell_type": "code",
   "execution_count": 246,
   "id": "f989dbb0",
   "metadata": {},
   "outputs": [
    {
     "name": "stdout",
     "output_type": "stream",
     "text": [
      "[[2094   66]\n",
      " [ 198 1243]]\n",
      "              precision    recall  f1-score   support\n",
      "\n",
      "           0       0.91      0.97      0.94      2160\n",
      "           1       0.95      0.86      0.90      1441\n",
      "\n",
      "    accuracy                           0.93      3601\n",
      "   macro avg       0.93      0.92      0.92      3601\n",
      "weighted avg       0.93      0.93      0.93      3601\n",
      "\n",
      "0.9266870313801722\n",
      "Accuracy Score is: 0.9266870313801722\n",
      "Per_Class_Accuracy_True_Positive: 0.8625954198473282\n",
      "Per_Class_Accuracy_True_Negative: 0.9694444444444444\n",
      "[0.         0.03055556 1.        ]\n",
      "[0.         0.86259542 1.        ]\n"
     ]
    },
    {
     "name": "stderr",
     "output_type": "stream",
     "text": [
      "/Users/rajasekharreddy/opt/anaconda3/lib/python3.9/site-packages/sklearn/utils/validation.py:1688: FutureWarning: Feature names only support names that are all strings. Got feature names with dtypes: ['int', 'str']. An error will be raised in 1.2.\n",
      "  warnings.warn(\n",
      "/Users/rajasekharreddy/opt/anaconda3/lib/python3.9/site-packages/sklearn/utils/validation.py:1688: FutureWarning: Feature names only support names that are all strings. Got feature names with dtypes: ['int', 'str']. An error will be raised in 1.2.\n",
      "  warnings.warn(\n"
     ]
    },
    {
     "data": {
      "image/png": "[encoded data removed]",
      "text/plain": [
       "<Figure size 432x288 with 1 Axes>"
      ]
     },
     "metadata": {
      "needs_background": "light"
     },
     "output_type": "display_data"
    }
   ],
   "source": [
    "# Buiding a Decision tree with n_estimators=50, max_features = \"sqrt\"\n",
    "from sklearn.ensemble import RandomForestClassifier\n",
    "classifier = RandomForestClassifier(n_estimators=50, random_state=555,max_features=\"sqrt\")\n",
    "classifier.fit(x_train, y_train)\n",
    "y_pred = classifier.predict(x_test)\n",
    "\n",
    "from sklearn.metrics import classification_report, confusion_matrix, accuracy_score\n",
    "\n",
    "print(confusion_matrix(y_test,y_pred))\n",
    "print(classification_report(y_test,y_pred))\n",
    "print(accuracy_score(y_test, y_pred))\n",
    "conf_mat=confusion_matrix(y_test,y_pred)\n",
    "true_positive = conf_mat[1][1]\n",
    "false_negative = conf_mat[1][0]\n",
    "false_positive= conf_mat[0][1] \n",
    "true_negative = conf_mat[0][0]\n",
    "print(\"Accuracy Score is:\",accuracy_score(y_test, y_pred))\n",
    "\n",
    "# Per class Accuracy for true positive.\n",
    "Per_class_acc_true_pos = true_positive/(true_positive+false_negative)\n",
    "print(\"Per_Class_Accuracy_True_Positive:\",Per_class_acc_true_pos)\n",
    "\n",
    "# Per class Accuracy for true negative.\n",
    "Per_class_acc_true_neg = true_negative/(false_positive+true_negative)\n",
    "print(\"Per_Class_Accuracy_True_Negative:\",Per_class_acc_true_neg)\n",
    "# Area Under Curve\n",
    "auc = roc_auc_score(y_test, y_pred)\n",
    "auc\n",
    "fpr, tpr, thresholds = roc_curve(y_test, y_pred)\n",
    "print(fpr)\n",
    "print(tpr)\n",
    "thresholds\n",
    "plt.plot(fpr, tpr, color='orange', label='ROC')\n",
    "plt.plot([0, 1], [0, 1], color='darkblue', linestyle='--',label='ROC curve (area = %0.2f)' % auc)\n",
    "plt.xlabel('False Positive Rate')\n",
    "plt.ylabel('True Positive Rate')\n",
    "plt.title('Receiver Operating Characteristic (ROC) Curve')\n",
    "plt.legend()\n",
    "plt.show()"
   ]
  },
  {
   "cell_type": "code",
   "execution_count": 248,
   "id": "7d9d19b4",
   "metadata": {},
   "outputs": [
    {
     "name": "stderr",
     "output_type": "stream",
     "text": [
      "/Users/rajasekharreddy/opt/anaconda3/lib/python3.9/site-packages/sklearn/utils/validation.py:1688: FutureWarning: Feature names only support names that are all strings. Got feature names with dtypes: ['int', 'str']. An error will be raised in 1.2.\n",
      "  warnings.warn(\n",
      "/Users/rajasekharreddy/opt/anaconda3/lib/python3.9/site-packages/sklearn/utils/validation.py:1688: FutureWarning: Feature names only support names that are all strings. Got feature names with dtypes: ['int', 'str']. An error will be raised in 1.2.\n",
      "  warnings.warn(\n"
     ]
    },
    {
     "name": "stdout",
     "output_type": "stream",
     "text": [
      "[[2102   58]\n",
      " [ 188 1253]]\n",
      "              precision    recall  f1-score   support\n",
      "\n",
      "           0       0.92      0.97      0.94      2160\n",
      "           1       0.96      0.87      0.91      1441\n",
      "\n",
      "    accuracy                           0.93      3601\n",
      "   macro avg       0.94      0.92      0.93      3601\n",
      "weighted avg       0.93      0.93      0.93      3601\n",
      "\n",
      "0.9316856428769786\n",
      "Accuracy Score is: 0.9316856428769786\n",
      "Per_Class_Accuracy_True_Positive: 0.8695350451075642\n",
      "Per_Class_Accuracy_True_Negative: 0.9731481481481481\n",
      "[0.         0.02685185 1.        ]\n",
      "[0.         0.86953505 1.        ]\n"
     ]
    },
    {
     "data": {
      "image/png": "[encoded data removed]",
      "text/plain": [
       "<Figure size 432x288 with 1 Axes>"
      ]
     },
     "metadata": {
      "needs_background": "light"
     },
     "output_type": "display_data"
    }
   ],
   "source": [
    "# Buiding a Decision tree with n_estimators=100, max_features = \"sqrt\"\n",
    "from sklearn.ensemble import RandomForestClassifier\n",
    "classifier = RandomForestClassifier(n_estimators=100, random_state=555,max_features=\"sqrt\")\n",
    "classifier.fit(x_train, y_train)\n",
    "y_pred = classifier.predict(x_test)\n",
    "from sklearn.metrics import classification_report, confusion_matrix, accuracy_score\n",
    "conf_mat=confusion_matrix(y_test,y_pred)\n",
    "true_positive = conf_mat[1][1]\n",
    "false_negative = conf_mat[1][0]\n",
    "false_positive= conf_mat[0][1] \n",
    "true_negative = conf_mat[0][0]\n",
    "\n",
    "print(confusion_matrix(y_test,y_pred))\n",
    "print(classification_report(y_test,y_pred))\n",
    "print(accuracy_score(y_test, y_pred))\n",
    "\n",
    "print(\"Accuracy Score is:\",accuracy_score(y_test, y_pred))\n",
    "# Per class Accuracy for true positive.\n",
    "Per_class_acc_true_pos = true_positive/(true_positive+false_negative)\n",
    "print(\"Per_Class_Accuracy_True_Positive:\",Per_class_acc_true_pos)\n",
    "\n",
    "# Per class Accuracy for true negative.\n",
    "Per_class_acc_true_neg = true_negative/(false_positive+true_negative)\n",
    "print(\"Per_Class_Accuracy_True_Negative:\",Per_class_acc_true_neg)\n",
    "# Area Under Curve\n",
    "auc = roc_auc_score(y_test, y_pred)\n",
    "auc\n",
    "\n",
    "fpr, tpr, thresholds = roc_curve(y_test, y_pred)\n",
    "print(fpr)\n",
    "print(tpr)\n",
    "thresholds\n",
    "plt.plot(fpr, tpr, color='orange', label='ROC')\n",
    "plt.plot([0, 1], [0, 1], color='darkblue', linestyle='--',label='ROC curve (area = %0.2f)' % auc)\n",
    "plt.xlabel('False Positive Rate')\n",
    "plt.ylabel('True Positive Rate')\n",
    "plt.title('Receiver Operating Characteristic (ROC) Curve')\n",
    "plt.legend()\n",
    "plt.show()"
   ]
  },
  {
   "cell_type": "code",
   "execution_count": 249,
   "id": "be84c08a",
   "metadata": {},
   "outputs": [
    {
     "name": "stderr",
     "output_type": "stream",
     "text": [
      "/Users/rajasekharreddy/opt/anaconda3/lib/python3.9/site-packages/sklearn/utils/validation.py:1688: FutureWarning: Feature names only support names that are all strings. Got feature names with dtypes: ['int', 'str']. An error will be raised in 1.2.\n",
      "  warnings.warn(\n",
      "/Users/rajasekharreddy/opt/anaconda3/lib/python3.9/site-packages/sklearn/utils/validation.py:1688: FutureWarning: Feature names only support names that are all strings. Got feature names with dtypes: ['int', 'str']. An error will be raised in 1.2.\n",
      "  warnings.warn(\n"
     ]
    },
    {
     "name": "stdout",
     "output_type": "stream",
     "text": [
      "[[2103   57]\n",
      " [ 181 1260]]\n",
      "              precision    recall  f1-score   support\n",
      "\n",
      "           0       0.92      0.97      0.95      2160\n",
      "           1       0.96      0.87      0.91      1441\n",
      "\n",
      "    accuracy                           0.93      3601\n",
      "   macro avg       0.94      0.92      0.93      3601\n",
      "weighted avg       0.94      0.93      0.93      3601\n",
      "\n",
      "0.9339072479866704\n",
      "Accuracy Score is: 0.9339072479866704\n",
      "Per_Class_Accuracy_True_Positive: 0.8743927827897293\n",
      "Per_Class_Accuracy_True_Negative: 0.9736111111111111\n",
      "[0.         0.02638889 1.        ]\n",
      "[0.         0.87439278 1.        ]\n"
     ]
    },
    {
     "data": {
      "image/png": "[encoded data removed]",
      "text/plain": [
       "<Figure size 432x288 with 1 Axes>"
      ]
     },
     "metadata": {
      "needs_background": "light"
     },
     "output_type": "display_data"
    }
   ],
   "source": [
    "# Buiding a Decision tree with n_estimators=500, max_features = \"sqrt\"\n",
    "from sklearn.ensemble import RandomForestClassifier\n",
    "classifier = RandomForestClassifier(n_estimators=500, random_state=555,max_features=\"sqrt\")\n",
    "classifier.fit(x_train, y_train)\n",
    "y_pred = classifier.predict(x_test)\n",
    "from sklearn.metrics import classification_report, confusion_matrix, accuracy_score\n",
    "print(confusion_matrix(y_test,y_pred))\n",
    "print(classification_report(y_test,y_pred))\n",
    "print(accuracy_score(y_test, y_pred))\n",
    "\n",
    "conf_mat=confusion_matrix(y_test,y_pred)\n",
    "true_positive = conf_mat[1][1]\n",
    "false_negative = conf_mat[1][0]\n",
    "false_positive= conf_mat[0][1] \n",
    "true_negative = conf_mat[0][0]\n",
    "\n",
    "print(\"Accuracy Score is:\",accuracy_score(y_test, y_pred))\n",
    "# Per class Accuracy for true positive.\n",
    "Per_class_acc_true_pos = true_positive/(true_positive+false_negative)\n",
    "print(\"Per_Class_Accuracy_True_Positive:\",Per_class_acc_true_pos)\n",
    "\n",
    "# Per class Accuracy for true negative.\n",
    "Per_class_acc_true_neg = true_negative/(false_positive+true_negative)\n",
    "print(\"Per_Class_Accuracy_True_Negative:\",Per_class_acc_true_neg)\n",
    "# Area Under Curve\n",
    "auc = roc_auc_score(y_test, y_pred)\n",
    "auc\n",
    "fpr, tpr, thresholds = roc_curve(y_test, y_pred)\n",
    "print(fpr)\n",
    "print(tpr)\n",
    "thresholds\n",
    "plt.plot(fpr, tpr, color='orange', label='ROC')\n",
    "plt.plot([0, 1], [0, 1], color='darkblue', linestyle='--',label='ROC curve (area = %0.2f)' % auc)\n",
    "plt.xlabel('False Positive Rate')\n",
    "plt.ylabel('True Positive Rate')\n",
    "plt.title('Receiver Operating Characteristic (ROC) Curve')\n",
    "plt.legend()\n",
    "plt.show()"
   ]
  },
  {
   "cell_type": "code",
   "execution_count": 252,
   "id": "17e91924",
   "metadata": {},
   "outputs": [
    {
     "name": "stderr",
     "output_type": "stream",
     "text": [
      "/Users/rajasekharreddy/opt/anaconda3/lib/python3.9/site-packages/sklearn/utils/validation.py:1688: FutureWarning: Feature names only support names that are all strings. Got feature names with dtypes: ['int', 'str']. An error will be raised in 1.2.\n",
      "  warnings.warn(\n",
      "/Users/rajasekharreddy/opt/anaconda3/lib/python3.9/site-packages/sklearn/utils/validation.py:1688: FutureWarning: Feature names only support names that are all strings. Got feature names with dtypes: ['int', 'str']. An error will be raised in 1.2.\n",
      "  warnings.warn(\n"
     ]
    },
    {
     "name": "stdout",
     "output_type": "stream",
     "text": [
      "[[2103   57]\n",
      " [ 179 1262]]\n",
      "              precision    recall  f1-score   support\n",
      "\n",
      "           0       0.92      0.97      0.95      2160\n",
      "           1       0.96      0.88      0.91      1441\n",
      "\n",
      "    accuracy                           0.93      3601\n",
      "   macro avg       0.94      0.92      0.93      3601\n",
      "weighted avg       0.94      0.93      0.93      3601\n",
      "\n",
      "Accuracy Score is: 0.9344626492640933\n",
      "Per_Class_Accuracy_True_Positive: 0.8757807078417765\n",
      "Per_Class_Accuracy_True_Negative: 0.9736111111111111\n",
      "[0.         0.02638889 1.        ]\n",
      "[0.         0.87578071 1.        ]\n"
     ]
    },
    {
     "data": {
      "image/png": "[encoded data removed]",
      "text/plain": [
       "<Figure size 432x288 with 1 Axes>"
      ]
     },
     "metadata": {
      "needs_background": "light"
     },
     "output_type": "display_data"
    }
   ],
   "source": [
    "# Buiding a Decision tree with n_estimators=1000, max_features = \"sqrt\"\n",
    "from sklearn.ensemble import RandomForestClassifier\n",
    "classifier = RandomForestClassifier(n_estimators=1000, random_state=555,max_features=\"sqrt\")\n",
    "classifier.fit(x_train, y_train)\n",
    "y_pred = classifier.predict(x_test)\n",
    "from sklearn.metrics import classification_report, confusion_matrix, accuracy_score\n",
    "print(confusion_matrix(y_test,y_pred))\n",
    "print(classification_report(y_test,y_pred))\n",
    "conf_mat=confusion_matrix(y_test,y_pred)\n",
    "true_positive = conf_mat[1][1]\n",
    "false_negative = conf_mat[1][0]\n",
    "false_positive= conf_mat[0][1] \n",
    "true_negative = conf_mat[0][0]\n",
    "print(\"Accuracy Score is:\",accuracy_score(y_test, y_pred))\n",
    "# Per class Accuracy for true positive.\n",
    "Per_class_acc_true_pos = true_positive/(true_positive+false_negative)\n",
    "print(\"Per_Class_Accuracy_True_Positive:\",Per_class_acc_true_pos)\n",
    "# Per class Accuracy for true negative.\n",
    "Per_class_acc_true_neg = true_negative/(false_positive+true_negative)\n",
    "print(\"Per_Class_Accuracy_True_Negative:\",Per_class_acc_true_neg)\n",
    "# Area Under Curve\n",
    "auc = roc_auc_score(y_test, y_pred)\n",
    "auc\n",
    "\n",
    "fpr, tpr, thresholds = roc_curve(y_test, y_pred)\n",
    "print(fpr)\n",
    "print(tpr)\n",
    "thresholds\n",
    "\n",
    "plt.plot(fpr, tpr, color='orange', label='ROC')\n",
    "plt.plot([0, 1], [0, 1], color='darkblue', linestyle='--',label='ROC curve (area = %0.2f)' % auc)\n",
    "plt.xlabel('False Positive Rate')\n",
    "plt.ylabel('True Positive Rate')\n",
    "plt.title('Receiver Operating Characteristic (ROC) Curve')\n",
    "plt.legend()\n",
    "plt.show()"
   ]
  },
  {
   "cell_type": "code",
   "execution_count": 253,
   "id": "a156fefa",
   "metadata": {},
   "outputs": [
    {
     "name": "stderr",
     "output_type": "stream",
     "text": [
      "/Users/rajasekharreddy/opt/anaconda3/lib/python3.9/site-packages/sklearn/utils/validation.py:1688: FutureWarning: Feature names only support names that are all strings. Got feature names with dtypes: ['int', 'str']. An error will be raised in 1.2.\n",
      "  warnings.warn(\n",
      "/Users/rajasekharreddy/opt/anaconda3/lib/python3.9/site-packages/sklearn/utils/validation.py:1688: FutureWarning: Feature names only support names that are all strings. Got feature names with dtypes: ['int', 'str']. An error will be raised in 1.2.\n",
      "  warnings.warn(\n"
     ]
    },
    {
     "name": "stdout",
     "output_type": "stream",
     "text": [
      "[[2104   56]\n",
      " [ 183 1258]]\n",
      "              precision    recall  f1-score   support\n",
      "\n",
      "           0       0.92      0.97      0.95      2160\n",
      "           1       0.96      0.87      0.91      1441\n",
      "\n",
      "    accuracy                           0.93      3601\n",
      "   macro avg       0.94      0.92      0.93      3601\n",
      "weighted avg       0.93      0.93      0.93      3601\n",
      "\n",
      "Accuracy Score is: 0.9336295473479589\n",
      "Per_Class_Accuracy_True_Positive: 0.8730048577376822\n",
      "Per_Class_Accuracy_True_Negative: 0.9740740740740741\n",
      "[0.         0.02592593 1.        ]\n",
      "[0.         0.87300486 1.        ]\n"
     ]
    },
    {
     "data": {
      "image/png": "[encoded data removed]",
      "text/plain": [
       "<Figure size 432x288 with 1 Axes>"
      ]
     },
     "metadata": {
      "needs_background": "light"
     },
     "output_type": "display_data"
    }
   ],
   "source": [
    "# Buiding a Decision tree with n_estimators=5000, max_features = \"sqrt\"\n",
    "from sklearn.ensemble import RandomForestClassifier\n",
    "classifier = RandomForestClassifier(n_estimators=5000, random_state=555,max_features=\"sqrt\")\n",
    "classifier.fit(x_train, y_train)\n",
    "y_pred = classifier.predict(x_test)\n",
    "\n",
    "from sklearn.metrics import classification_report, confusion_matrix, accuracy_score\n",
    "\n",
    "print(confusion_matrix(y_test,y_pred))\n",
    "print(classification_report(y_test,y_pred))\n",
    "\n",
    "conf_mat=confusion_matrix(y_test,y_pred)\n",
    "true_positive = conf_mat[1][1]\n",
    "false_negative = conf_mat[1][0]\n",
    "false_positive= conf_mat[0][1] \n",
    "true_negative = conf_mat[0][0]\n",
    "\n",
    "print(\"Accuracy Score is:\",accuracy_score(y_test, y_pred))\n",
    "# Per class Accuracy for true positive.\n",
    "Per_class_acc_true_pos = true_positive/(true_positive+false_negative)\n",
    "print(\"Per_Class_Accuracy_True_Positive:\",Per_class_acc_true_pos)\n",
    "\n",
    "# Per class Accuracy for true negative.\n",
    "Per_class_acc_true_neg = true_negative/(false_positive+true_negative)\n",
    "print(\"Per_Class_Accuracy_True_Negative:\",Per_class_acc_true_neg)\n",
    "# Area Under Curve\n",
    "auc = roc_auc_score(y_test, y_pred)\n",
    "auc\n",
    "fpr, tpr, thresholds = roc_curve(y_test, y_pred)\n",
    "print(fpr)\n",
    "print(tpr)\n",
    "thresholds\n",
    "plt.plot(fpr, tpr, color='orange', label='ROC')\n",
    "plt.plot([0, 1], [0, 1], color='darkblue', linestyle='--',label='ROC curve (area = %0.2f)' % auc)\n",
    "plt.xlabel('False Positive Rate')\n",
    "plt.ylabel('True Positive Rate')\n",
    "plt.title('Receiver Operating Characteristic (ROC) Curve')\n",
    "plt.legend()\n",
    "plt.show()"
   ]
  },
  {
   "cell_type": "code",
   "execution_count": 244,
   "id": "50f755fd",
   "metadata": {},
   "outputs": [
    {
     "name": "stderr",
     "output_type": "stream",
     "text": [
      "/Users/rajasekharreddy/opt/anaconda3/lib/python3.9/site-packages/sklearn/utils/validation.py:1688: FutureWarning: Feature names only support names that are all strings. Got feature names with dtypes: ['int', 'str']. An error will be raised in 1.2.\n",
      "  warnings.warn(\n",
      "/Users/rajasekharreddy/opt/anaconda3/lib/python3.9/site-packages/sklearn/utils/validation.py:1688: FutureWarning: Feature names only support names that are all strings. Got feature names with dtypes: ['int', 'str']. An error will be raised in 1.2.\n",
      "  warnings.warn(\n"
     ]
    },
    {
     "name": "stdout",
     "output_type": "stream",
     "text": [
      "[[2104   56]\n",
      " [ 181 1260]]\n",
      "              precision    recall  f1-score   support\n",
      "\n",
      "           0       0.92      0.97      0.95      2160\n",
      "           1       0.96      0.87      0.91      1441\n",
      "\n",
      "    accuracy                           0.93      3601\n",
      "   macro avg       0.94      0.92      0.93      3601\n",
      "weighted avg       0.94      0.93      0.93      3601\n",
      "\n",
      "Accuracy Score is: 0.9341849486253818\n",
      "Per_Class_Accuracy_True_Positive: 0.8743927827897293\n",
      "Per_Class_Accuracy_True_Negative: 0.9740740740740741\n",
      "[0.         0.02592593 1.        ]\n",
      "[0.         0.87439278 1.        ]\n"
     ]
    },
    {
     "data": {
      "image/png": "[encoded data removed]",
      "text/plain": [
       "<Figure size 432x288 with 1 Axes>"
      ]
     },
     "metadata": {
      "needs_background": "light"
     },
     "output_type": "display_data"
    }
   ],
   "source": [
    "# Buiding a Decision tree with n_estimators=50000, max_features = \"sqrt\"\n",
    "from sklearn.ensemble import RandomForestClassifier\n",
    "classifier = RandomForestClassifier(n_estimators=50000, random_state=555,max_features=\"sqrt\")\n",
    "classifier.fit(x_train, y_train)\n",
    "y_pred = classifier.predict(x_test)\n",
    "\n",
    "from sklearn.metrics import classification_report, confusion_matrix, accuracy_score\n",
    "\n",
    "print(confusion_matrix(y_test,y_pred))\n",
    "print(classification_report(y_test,y_pred))\n",
    "\n",
    "conf_mat=confusion_matrix(y_test,y_pred)\n",
    "true_positive = conf_mat[1][1]\n",
    "false_negative = conf_mat[1][0]\n",
    "false_positive= conf_mat[0][1] \n",
    "true_negative = conf_mat[0][0]\n",
    "print(\"Accuracy Score is:\",accuracy_score(y_test, y_pred))\n",
    "# Per class Accuracy for true positive.\n",
    "Per_class_acc_true_pos = true_positive/(true_positive+false_negative)\n",
    "print(\"Per_Class_Accuracy_True_Positive:\",Per_class_acc_true_pos)\n",
    "\n",
    "# Per class Accuracy for true negative.\n",
    "Per_class_acc_true_neg = true_negative/(false_positive+true_negative)\n",
    "print(\"Per_Class_Accuracy_True_Negative:\",Per_class_acc_true_neg)\n",
    "# Area Under Curve\n",
    "auc = roc_auc_score(y_test, y_pred)\n",
    "auc\n",
    "fpr, tpr, thresholds = roc_curve(y_test, y_pred)\n",
    "print(fpr)\n",
    "print(tpr)\n",
    "thresholds\n",
    "\n",
    "plt.plot(fpr, tpr, color='orange', label='ROC')\n",
    "plt.plot([0, 1], [0, 1], color='darkblue', linestyle='--',label='ROC curve (area = %0.2f)' % auc)\n",
    "plt.xlabel('False Positive Rate')\n",
    "plt.ylabel('True Positive Rate')\n",
    "plt.title('Receiver Operating Characteristic (ROC) Curve')\n",
    "plt.legend()\n",
    "plt.show()"
   ]
  },
  {
   "cell_type": "markdown",
   "id": "3ec0e1cc",
   "metadata": {},
   "source": [
    "# Implement Grid Search CV to find out the best estimator for RandomForest Classifier."
   ]
  },
  {
   "cell_type": "code",
   "execution_count": 260,
   "id": "7c5ca479",
   "metadata": {},
   "outputs": [],
   "source": [
    "param_grid = {\"n_estimators\": [10,50,100,500,1000,5000]}"
   ]
  },
  {
   "cell_type": "code",
   "execution_count": 261,
   "id": "a2723d37",
   "metadata": {},
   "outputs": [],
   "source": [
    "from sklearn.model_selection import train_test_split\n",
    "x_train,x_test,y_train,y_test=train_test_split(x,y, train_size=1000,random_state=44)"
   ]
  },
  {
   "cell_type": "code",
   "execution_count": 262,
   "id": "5d67c99f",
   "metadata": {},
   "outputs": [],
   "source": [
    "from sklearn.ensemble import RandomForestClassifier\n",
    "classifier = RandomForestClassifier()\n",
    "from sklearn.model_selection import GridSearchCV\n",
    "grid_search = GridSearchCV(estimator = classifier, param_grid = param_grid, cv = 2, n_jobs = -1, verbose = 2)"
   ]
  },
  {
   "cell_type": "code",
   "execution_count": 263,
   "id": "670614a1",
   "metadata": {},
   "outputs": [
    {
     "name": "stdout",
     "output_type": "stream",
     "text": [
      "[[2102   58]\n",
      " [ 195 1246]]\n",
      "Fitting 2 folds for each of 6 candidates, totalling 12 fits\n"
     ]
    },
    {
     "name": "stderr",
     "output_type": "stream",
     "text": [
      "/Users/rajasekharreddy/opt/anaconda3/lib/python3.9/site-packages/sklearn/utils/validation.py:1688: FutureWarning: Feature names only support names that are all strings. Got feature names with dtypes: ['int', 'str']. An error will be raised in 1.2.\n",
      "  warnings.warn(\n",
      "/Users/rajasekharreddy/opt/anaconda3/lib/python3.9/site-packages/sklearn/utils/validation.py:1688: FutureWarning: Feature names only support names that are all strings. Got feature names with dtypes: ['int', 'str']. An error will be raised in 1.2.\n",
      "  warnings.warn(\n",
      "/Users/rajasekharreddy/opt/anaconda3/lib/python3.9/site-packages/sklearn/utils/validation.py:1688: FutureWarning: Feature names only support names that are all strings. Got feature names with dtypes: ['int', 'str']. An error will be raised in 1.2.\n",
      "  warnings.warn(\n",
      "/Users/rajasekharreddy/opt/anaconda3/lib/python3.9/site-packages/sklearn/utils/validation.py:1688: FutureWarning: Feature names only support names that are all strings. Got feature names with dtypes: ['int', 'str']. An error will be raised in 1.2.\n",
      "  warnings.warn(\n",
      "/Users/rajasekharreddy/opt/anaconda3/lib/python3.9/site-packages/sklearn/utils/validation.py:1688: FutureWarning: Feature names only support names that are all strings. Got feature names with dtypes: ['int', 'str']. An error will be raised in 1.2.\n",
      "  warnings.warn(\n",
      "/Users/rajasekharreddy/opt/anaconda3/lib/python3.9/site-packages/sklearn/utils/validation.py:1688: FutureWarning: Feature names only support names that are all strings. Got feature names with dtypes: ['int', 'str']. An error will be raised in 1.2.\n",
      "  warnings.warn(\n",
      "/Users/rajasekharreddy/opt/anaconda3/lib/python3.9/site-packages/sklearn/utils/validation.py:1688: FutureWarning: Feature names only support names that are all strings. Got feature names with dtypes: ['int', 'str']. An error will be raised in 1.2.\n",
      "  warnings.warn(\n",
      "/Users/rajasekharreddy/opt/anaconda3/lib/python3.9/site-packages/sklearn/utils/validation.py:1688: FutureWarning: Feature names only support names that are all strings. Got feature names with dtypes: ['int', 'str']. An error will be raised in 1.2.\n",
      "  warnings.warn(\n",
      "/Users/rajasekharreddy/opt/anaconda3/lib/python3.9/site-packages/sklearn/utils/validation.py:1688: FutureWarning: Feature names only support names that are all strings. Got feature names with dtypes: ['int', 'str']. An error will be raised in 1.2.\n",
      "  warnings.warn(\n",
      "/Users/rajasekharreddy/opt/anaconda3/lib/python3.9/site-packages/sklearn/utils/validation.py:1688: FutureWarning: Feature names only support names that are all strings. Got feature names with dtypes: ['int', 'str']. An error will be raised in 1.2.\n",
      "  warnings.warn(\n",
      "/Users/rajasekharreddy/opt/anaconda3/lib/python3.9/site-packages/sklearn/utils/validation.py:1688: FutureWarning: Feature names only support names that are all strings. Got feature names with dtypes: ['int', 'str']. An error will be raised in 1.2.\n",
      "  warnings.warn(\n",
      "/Users/rajasekharreddy/opt/anaconda3/lib/python3.9/site-packages/sklearn/utils/validation.py:1688: FutureWarning: Feature names only support names that are all strings. Got feature names with dtypes: ['int', 'str']. An error will be raised in 1.2.\n",
      "  warnings.warn(\n",
      "/Users/rajasekharreddy/opt/anaconda3/lib/python3.9/site-packages/sklearn/utils/validation.py:1688: FutureWarning: Feature names only support names that are all strings. Got feature names with dtypes: ['int', 'str']. An error will be raised in 1.2.\n",
      "  warnings.warn(\n",
      "/Users/rajasekharreddy/opt/anaconda3/lib/python3.9/site-packages/sklearn/utils/validation.py:1688: FutureWarning: Feature names only support names that are all strings. Got feature names with dtypes: ['int', 'str']. An error will be raised in 1.2.\n",
      "  warnings.warn(\n",
      "/Users/rajasekharreddy/opt/anaconda3/lib/python3.9/site-packages/sklearn/utils/validation.py:1688: FutureWarning: Feature names only support names that are all strings. Got feature names with dtypes: ['int', 'str']. An error will be raised in 1.2.\n",
      "  warnings.warn(\n",
      "/Users/rajasekharreddy/opt/anaconda3/lib/python3.9/site-packages/sklearn/utils/validation.py:1688: FutureWarning: Feature names only support names that are all strings. Got feature names with dtypes: ['int', 'str']. An error will be raised in 1.2.\n",
      "  warnings.warn(\n",
      "/Users/rajasekharreddy/opt/anaconda3/lib/python3.9/site-packages/sklearn/utils/validation.py:1688: FutureWarning: Feature names only support names that are all strings. Got feature names with dtypes: ['int', 'str']. An error will be raised in 1.2.\n",
      "  warnings.warn(\n",
      "/Users/rajasekharreddy/opt/anaconda3/lib/python3.9/site-packages/sklearn/utils/validation.py:1688: FutureWarning: Feature names only support names that are all strings. Got feature names with dtypes: ['int', 'str']. An error will be raised in 1.2.\n",
      "  warnings.warn(\n",
      "/Users/rajasekharreddy/opt/anaconda3/lib/python3.9/site-packages/sklearn/utils/validation.py:1688: FutureWarning: Feature names only support names that are all strings. Got feature names with dtypes: ['int', 'str']. An error will be raised in 1.2.\n",
      "  warnings.warn(\n",
      "/Users/rajasekharreddy/opt/anaconda3/lib/python3.9/site-packages/sklearn/utils/validation.py:1688: FutureWarning: Feature names only support names that are all strings. Got feature names with dtypes: ['int', 'str']. An error will be raised in 1.2.\n",
      "  warnings.warn(\n",
      "/Users/rajasekharreddy/opt/anaconda3/lib/python3.9/site-packages/sklearn/utils/validation.py:1688: FutureWarning: Feature names only support names that are all strings. Got feature names with dtypes: ['int', 'str']. An error will be raised in 1.2.\n",
      "  warnings.warn(\n",
      "/Users/rajasekharreddy/opt/anaconda3/lib/python3.9/site-packages/sklearn/utils/validation.py:1688: FutureWarning: Feature names only support names that are all strings. Got feature names with dtypes: ['int', 'str']. An error will be raised in 1.2.\n",
      "  warnings.warn(\n",
      "/Users/rajasekharreddy/opt/anaconda3/lib/python3.9/site-packages/sklearn/utils/validation.py:1688: FutureWarning: Feature names only support names that are all strings. Got feature names with dtypes: ['int', 'str']. An error will be raised in 1.2.\n",
      "  warnings.warn(\n",
      "/Users/rajasekharreddy/opt/anaconda3/lib/python3.9/site-packages/sklearn/utils/validation.py:1688: FutureWarning: Feature names only support names that are all strings. Got feature names with dtypes: ['int', 'str']. An error will be raised in 1.2.\n",
      "  warnings.warn(\n",
      "/Users/rajasekharreddy/opt/anaconda3/lib/python3.9/site-packages/sklearn/utils/validation.py:1688: FutureWarning: Feature names only support names that are all strings. Got feature names with dtypes: ['int', 'str']. An error will be raised in 1.2.\n",
      "  warnings.warn(\n",
      "/Users/rajasekharreddy/opt/anaconda3/lib/python3.9/site-packages/sklearn/utils/validation.py:1688: FutureWarning: Feature names only support names that are all strings. Got feature names with dtypes: ['int', 'str']. An error will be raised in 1.2.\n",
      "  warnings.warn(\n",
      "/Users/rajasekharreddy/opt/anaconda3/lib/python3.9/site-packages/sklearn/utils/validation.py:1688: FutureWarning: Feature names only support names that are all strings. Got feature names with dtypes: ['int', 'str']. An error will be raised in 1.2.\n",
      "  warnings.warn(\n"
     ]
    },
    {
     "data": {
      "text/plain": [
       "{'n_estimators': 100}"
      ]
     },
     "execution_count": 263,
     "metadata": {},
     "output_type": "execute_result"
    }
   ],
   "source": [
    "from sklearn.model_selection import train_test_split\n",
    "x_train,x_test,y_train,y_test=train_test_split(x,y, train_size=1000,random_state=44)\n",
    "classifier.fit(x_train, y_train)\n",
    "y_pred = classifier.predict(x_test)\n",
    "\n",
    "from sklearn.metrics import classification_report, confusion_matrix, accuracy_score\n",
    "\n",
    "print(confusion_matrix(y_test,y_pred))\n",
    "grid_search.fit(x_train, y_train)\n",
    "grid_search.best_params_"
   ]
  },
  {
   "cell_type": "code",
   "execution_count": null,
   "id": "af686ddb",
   "metadata": {},
   "outputs": [],
   "source": []
  },
  {
   "cell_type": "markdown",
   "id": "24fc46c2",
   "metadata": {},
   "source": [
    "# I will use the estimator returned from a Gridsearch CV algorithm."
   ]
  },
  {
   "cell_type": "code",
   "execution_count": 267,
   "id": "c7822b8f",
   "metadata": {},
   "outputs": [
    {
     "name": "stderr",
     "output_type": "stream",
     "text": [
      "/Users/rajasekharreddy/opt/anaconda3/lib/python3.9/site-packages/sklearn/utils/validation.py:1688: FutureWarning: Feature names only support names that are all strings. Got feature names with dtypes: ['int', 'str']. An error will be raised in 1.2.\n",
      "  warnings.warn(\n",
      "/Users/rajasekharreddy/opt/anaconda3/lib/python3.9/site-packages/sklearn/utils/validation.py:1688: FutureWarning: Feature names only support names that are all strings. Got feature names with dtypes: ['int', 'str']. An error will be raised in 1.2.\n",
      "  warnings.warn(\n"
     ]
    },
    {
     "name": "stdout",
     "output_type": "stream",
     "text": [
      "[[2102   58]\n",
      " [ 188 1253]]\n",
      "              precision    recall  f1-score   support\n",
      "\n",
      "           0       0.92      0.97      0.94      2160\n",
      "           1       0.96      0.87      0.91      1441\n",
      "\n",
      "    accuracy                           0.93      3601\n",
      "   macro avg       0.94      0.92      0.93      3601\n",
      "weighted avg       0.93      0.93      0.93      3601\n",
      "\n",
      "Accuracy Score is: 0.9316856428769786\n",
      "Per_Class_Accuracy_True_Positive: 0.8695350451075642\n",
      "Per_Class_Accuracy_True_Negative: 0.9731481481481481\n"
     ]
    },
    {
     "data": {
      "image/png": "[encoded data removed]",
      "text/plain": [
       "<Figure size 432x288 with 1 Axes>"
      ]
     },
     "metadata": {
      "needs_background": "light"
     },
     "output_type": "display_data"
    },
    {
     "name": "stdout",
     "output_type": "stream",
     "text": [
      "[CV] END ...................................n_estimators=100; total time=   0.2s\n",
      "[CV] END ...................................n_estimators=100; total time=   0.2s\n",
      "[CV] END ...................................n_estimators=500; total time=   0.6s\n",
      "[CV] END ...................................n_estimators=500; total time=   0.7s\n",
      "[CV] END ....................................n_estimators=10; total time=   0.0s\n",
      "[CV] END ..................................n_estimators=1000; total time=   1.1s\n",
      "[CV] END ....................................n_estimators=10; total time=   0.0s\n",
      "[CV] END ..................................n_estimators=1000; total time=   1.1s\n",
      "[CV] END ....................................n_estimators=50; total time=   0.1s\n",
      "[CV] END ..................................n_estimators=5000; total time=   5.1s\n",
      "[CV] END ....................................n_estimators=50; total time=   0.1s\n",
      "[CV] END ..................................n_estimators=5000; total time=   5.1s\n"
     ]
    }
   ],
   "source": [
    "from sklearn.model_selection import train_test_split\n",
    "x_train,x_test,y_train,y_test=train_test_split(x,y, train_size=1000,random_state=44)\n",
    "from sklearn.ensemble import RandomForestClassifier\n",
    "classifier = RandomForestClassifier(n_estimators=100,random_state=555,max_features=\"sqrt\")\n",
    "classifier.fit(x_train, y_train)\n",
    "y_pred=classifier.predict(x_test)\n",
    "# Confusion Matrix\n",
    "conf_mat = confusion_matrix(y_test,y_pred)\n",
    "true_positive = conf_mat[1][1]\n",
    "false_negative = conf_mat[1][0]\n",
    "false_positive= conf_mat[0][1] \n",
    "true_negative = conf_mat[0][0]\n",
    "from sklearn.metrics import classification_report\n",
    "from sklearn.metrics import confusion_matrix\n",
    "print(confusion_matrix(y_test,y_pred))\n",
    "print(classification_report(y_test,y_pred))\n",
    "print(\"Accuracy Score is:\",accuracy_score(y_test, y_pred))\n",
    "# Per class Accuracy for true positive.\n",
    "Per_class_acc_true_pos = true_positive/(true_positive+false_negative)\n",
    "print(\"Per_Class_Accuracy_True_Positive:\",Per_class_acc_true_pos)\n",
    "# Per class Accuracy for true negative.\n",
    "Per_class_acc_true_neg = true_negative/(false_positive+true_negative)\n",
    "print(\"Per_Class_Accuracy_True_Negative:\",Per_class_acc_true_neg)\n",
    "# Area Under Curve\n",
    "auc = roc_auc_score(y_test, y_hat)\n",
    "auc\n",
    "fpr, tpr, thresholds = roc_curve(y_test, y_pred)\n",
    "thresholds\n",
    "plt.plot(fpr, tpr, color='orange', label='ROC')\n",
    "plt.plot([0, 1], [0, 1], color='darkblue', linestyle='--',label='ROC curve (area = %0.2f)' % auc)\n",
    "plt.xlabel('False Positive Rate')\n",
    "plt.ylabel('True Positive Rate')\n",
    "plt.title('Receiver Operating Characteristic (ROC) Curve')\n",
    "plt.legend()\n",
    "plt.show()"
   ]
  },
  {
   "cell_type": "code",
   "execution_count": null,
   "id": "3f396d7e",
   "metadata": {},
   "outputs": [],
   "source": []
  },
  {
   "cell_type": "code",
   "execution_count": null,
   "id": "4f4e4330",
   "metadata": {},
   "outputs": [],
   "source": []
  },
  {
   "cell_type": "code",
   "execution_count": null,
   "id": "466f899d",
   "metadata": {},
   "outputs": [],
   "source": []
  },
  {
   "cell_type": "code",
   "execution_count": null,
   "id": "9d9d9e9e",
   "metadata": {},
   "outputs": [],
   "source": []
  },
  {
   "cell_type": "code",
   "execution_count": null,
   "id": "1092205d",
   "metadata": {},
   "outputs": [],
   "source": []
  },
  {
   "cell_type": "code",
   "execution_count": null,
   "id": "333481e6",
   "metadata": {},
   "outputs": [],
   "source": []
  },
  {
   "cell_type": "code",
   "execution_count": null,
   "id": "60f902ba",
   "metadata": {},
   "outputs": [],
   "source": []
  },
  {
   "cell_type": "code",
   "execution_count": null,
   "id": "99f7fdd9",
   "metadata": {},
   "outputs": [],
   "source": []
  },
  {
   "cell_type": "code",
   "execution_count": null,
   "id": "0c40f83d",
   "metadata": {},
   "outputs": [],
   "source": []
  },
  {
   "cell_type": "code",
   "execution_count": null,
   "id": "ed8dfc2b",
   "metadata": {},
   "outputs": [],
   "source": []
  }
 ],
 "metadata": {
  "kernelspec": {
   "display_name": "Python 3 (ipykernel)",
   "language": "python",
   "name": "python3"
  },
  "language_info": {
   "codemirror_mode": {
    "name": "ipython",
    "version": 3
   },
   "file_extension": ".py",
   "mimetype": "text/x-python",
   "name": "python",
   "nbconvert_exporter": "python",
   "pygments_lexer": "ipython3",
   "version": "3.9.12"
  }
 },
 "nbformat": 4,
 "nbformat_minor": 5
}
